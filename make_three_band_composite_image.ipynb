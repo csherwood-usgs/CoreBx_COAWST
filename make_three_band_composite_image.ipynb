{
 "cells": [
  {
   "cell_type": "markdown",
   "id": "78af1aa3",
   "metadata": {},
   "source": [
    "### Make a three-band image for Doodling\n",
    "* Clip out ROI from DEM and \n",
    "* \n",
    "* Read in the DEM and normalize to 0-255\n",
    "* Read in the ortho\n",
    "    * Calculate panchromatic band\n",
    "    * Calculate veg index band\n",
    "    * Smooth and interpolate onto DEM grid\n",
    "* Create 3-band image\n",
    "* Export as jpg with aux.xml coordinate info"
   ]
  },
  {
   "cell_type": "code",
   "execution_count": 1,
   "id": "7f27f8cd",
   "metadata": {},
   "outputs": [],
   "source": [
    "import os\n",
    "import numpy as np\n",
    "from osgeo import gdal\n",
    "from osgeo import gdal_array\n",
    "import numpy as np\n",
    "import xarray as xr\n",
    "import rioxarray as rio\n",
    "import matplotlib.pyplot as plt\n",
    "import matplotlib.image as mpimg"
   ]
  },
  {
   "cell_type": "markdown",
   "id": "2112f804",
   "metadata": {},
   "source": [
    "### Define functions for work on images"
   ]
  },
  {
   "cell_type": "code",
   "execution_count": 2,
   "id": "063b91ba",
   "metadata": {},
   "outputs": [],
   "source": [
    "def normalized_uint8( a, nan_val = 0 ):\n",
    "    amin = np.nanmin(a)\n",
    "    amax = np.nanmax(a)\n",
    "    a_shape = np.shape(a)\n",
    "    ar = np.ravel(a)\n",
    "    ar[np.where(np.isnan)] = nan_val\n",
    "    ar = np.round(255*(ar-amin)/(amax-amin))\n",
    "    return np.reshape(ar,a_shape).astype('uint8')\n",
    "\n",
    "\n",
    "def GRRI_func(im):\n",
    "    r, g, b = 0, 1, 2\n",
    "    GRRI = im[:,:,g]/im[:,:,r]\n",
    "    return GRRI\n",
    "\n",
    "\n",
    "def GRVI_func(im):\n",
    "    r, g, b = 0, 1, 2\n",
    "    GRVI = (im[:,:,g]-im[:,:,r])/(im[:,:,g]+im[:,:,r])\n",
    "    return GRVI\n",
    "\n",
    "\n",
    "def Excess_funcs(im):\n",
    "    '''\n",
    "    Excess Red (ExR)\n",
    "        Meyer, G. E., Hindman, T. W., and Laksmi, K. (1999). Machine vision\n",
    "        detection parameters for plant species identification. in, eds.\n",
    "        G. E. Meyer and J. A. DeShazer (Boston, MA), 327â€“335.\n",
    "        doi:10.1117/12.336896.\n",
    "    Excess Green (ExG)\n",
    "        Woebbecke, D.M.; Meyer, G.E.; Von Bargen, K.; Mortensen, D.A.\n",
    "        1995. Color Indices forWeed Identification Under Various Soil,\n",
    "        Residue, and Lighting Conditions. Trans. ASAE, 38, 259-269.\n",
    "    Excess Green minus R (ExGR)\n",
    "        Neto, J.C. 2004. A combined statistical-soft computing approach\n",
    "        for classification and mapping weed species in minimum -tillage\n",
    "        systems. Ph.D. Thesis, University of Nebraska, Lincoln, Lincoln,\n",
    "        NE, USA, August 2004.\n",
    "        \n",
    "    Thanks to Phil Wernette, USGS\n",
    "    '''\n",
    "    r = im[:,:,0]\n",
    "    g = im[:,:,1]\n",
    "    b = im[:,:,2]\n",
    "    exr = 1.4*b-g\n",
    "    exg = 2*g-r-b\n",
    "    exgr = exg-exr\n",
    "    return exr, exg, exgr\n",
    "\n",
    "\n",
    "def gray_func(im):\n",
    "    r, g, b = 0, 1, 2\n",
    "    gray = np.round(  0.2989 * im[:,:,r]\n",
    "                    + 0.5870 * im[:,:,g]\n",
    "                    + 0.1140 * im[:,:,b])\n",
    "    return gray.astype('uint8')\n",
    "\n",
    "\n",
    "def twod_stats(im):\n",
    "    print('dtype:', im.dtype, 'shape', im.shape)\n",
    "    print('Number of nans:',np.sum(np.isnan(np.ravel(im))))\n",
    "    print('2.5% {}, 97.5% {}'.format(np.nanpercentile(im, 2.5), np.nanpercentile(im, 97.5)))\n",
    "    print('1% {}, 99% {}'.format(np.nanpercentile(im, 1), np.nanpercentile(im, 99)))\n",
    "    print('min {}, max {}'.format(np.nanmin(im), np.nanmax(im)))\n",
    "    print('median {}, mean {}'.format(np.nanpercentile(im, 50), np.nanmean(im)))"
   ]
  },
  {
   "cell_type": "code",
   "execution_count": 3,
   "id": "de4ab119",
   "metadata": {},
   "outputs": [],
   "source": [
    "big_ortho_dir = 'C:/crs/proj/2019_DorianOBX/2021-07-27_FloSup_Products/ortho_cog/'\n",
    "big_ortho_fname = '20190830_Ocracoke_Inlet_to_Ophelia_Inlet_RGBavg_NAD83_2011_UTM18_0.25m_cog.tif'\n",
    "\n",
    "big_dem_dir = 'C:/crs/proj/2021_FloSupp_Release/Clipped_Final/'\n",
    "big_dem_fname = '20190830_Ocracoke_Inlet_to_Ophelia_Inlet_NAD83_2011_NAVD88_UTM18N_1m_cog.tif'\n",
    "\n",
    "out_dir = 'C:/crs/proj/2022_Composite_Experiment/Composite_Experiment/jpeg_composites/'\n",
    "ortho_fname = 'small_ortho.jpg'\n",
    "dem_fname = 'small_dem.jpg'\n",
    "\n",
    "# define a box\n",
    "ulx=394500.\n",
    "uly=3871680.\n",
    "boxx = 250.\n",
    "boxy = 200.\n",
    "\n",
    "lrx=ulx+boxx\n",
    "lry=uly-boxy"
   ]
  },
  {
   "cell_type": "markdown",
   "id": "50e9a7b1",
   "metadata": {},
   "source": [
    "### Use gdal to convert the DEM from .tiff to .jpg and 1 m to 0.25 m"
   ]
  },
  {
   "cell_type": "code",
   "execution_count": 7,
   "id": "edf4482c",
   "metadata": {},
   "outputs": [
    {
     "name": "stdout",
     "output_type": "stream",
     "text": [
      "gdal_translate -projwin 394500.0 3871680.0 394750.0 3871480.0 -b 1 -tr 0.25 0.25 -r nearest -of JPEG  C:/crs/proj/2021_FloSupp_Release/Clipped_Final/20190830_Ocracoke_Inlet_to_Ophelia_Inlet_NAD83_2011_NAVD88_UTM18N_1m_cog.tif C:/crs/proj/2022_Composite_Experiment/Composite_Experiment/jpeg_composites/small_dem.jpg\n"
     ]
    },
    {
     "data": {
      "text/plain": [
       "0"
      ]
     },
     "execution_count": 7,
     "metadata": {},
     "output_type": "execute_result"
    }
   ],
   "source": [
    "infile = big_dem_dir+big_dem_fname\n",
    "outfile = out_dir+dem_fname\n",
    "gdal_cmd = 'gdal_translate -projwin {} {} {} {} -b 1 -tr 0.25 0.25 -r nearest -of JPEG  {} {}'.format(\n",
    "    ulx, uly, lrx, lry, infile, outfile)\n",
    "print(gdal_cmd)\n",
    "os.system(gdal_cmd)\n",
    "os.system('gdalinfo {}'.format(outfile))"
   ]
  },
  {
   "cell_type": "markdown",
   "id": "12928530",
   "metadata": {},
   "source": [
    "### Try to open the small dem with gdal.\n",
    "Not sure why the values are uint8. Maybe need to be more specific."
   ]
  },
  {
   "cell_type": "code",
   "execution_count": 8,
   "id": "12591974",
   "metadata": {},
   "outputs": [
    {
     "data": {
      "text/plain": [
       "array([[1, 1, 1, ..., 1, 1, 1],\n",
       "       [1, 1, 1, ..., 1, 1, 1],\n",
       "       [1, 1, 1, ..., 1, 1, 1],\n",
       "       ...,\n",
       "       [2, 2, 2, ..., 2, 2, 2],\n",
       "       [2, 2, 2, ..., 2, 2, 2],\n",
       "       [2, 2, 2, ..., 2, 2, 2]], dtype=uint8)"
      ]
     },
     "execution_count": 8,
     "metadata": {},
     "output_type": "execute_result"
    }
   ],
   "source": [
    "# open the small dem\n",
    "ds = gdal.Open(out_dir+dem_fname, gdal.GA_ReadOnly)\n",
    "\n",
    "dem = ds.GetRasterBand(1).ReadAsArray()\n",
    "dem"
   ]
  },
  {
   "cell_type": "markdown",
   "id": "932b8efb",
   "metadata": {},
   "source": [
    "### Instead, open the DEM with xarray"
   ]
  },
  {
   "cell_type": "code",
   "execution_count": 9,
   "id": "0c3c7ba6",
   "metadata": {},
   "outputs": [
    {
     "data": {
      "text/html": [
       "<div><svg style=\"position: absolute; width: 0; height: 0; overflow: hidden\">\n",
       "<defs>\n",
       "<symbol id=\"icon-database\" viewBox=\"0 0 32 32\">\n",
       "<path d=\"M16 0c-8.837 0-16 2.239-16 5v4c0 2.761 7.163 5 16 5s16-2.239 16-5v-4c0-2.761-7.163-5-16-5z\"></path>\n",
       "<path d=\"M16 17c-8.837 0-16-2.239-16-5v6c0 2.761 7.163 5 16 5s16-2.239 16-5v-6c0 2.761-7.163 5-16 5z\"></path>\n",
       "<path d=\"M16 26c-8.837 0-16-2.239-16-5v6c0 2.761 7.163 5 16 5s16-2.239 16-5v-6c0 2.761-7.163 5-16 5z\"></path>\n",
       "</symbol>\n",
       "<symbol id=\"icon-file-text2\" viewBox=\"0 0 32 32\">\n",
       "<path d=\"M28.681 7.159c-0.694-0.947-1.662-2.053-2.724-3.116s-2.169-2.030-3.116-2.724c-1.612-1.182-2.393-1.319-2.841-1.319h-15.5c-1.378 0-2.5 1.121-2.5 2.5v27c0 1.378 1.122 2.5 2.5 2.5h23c1.378 0 2.5-1.122 2.5-2.5v-19.5c0-0.448-0.137-1.23-1.319-2.841zM24.543 5.457c0.959 0.959 1.712 1.825 2.268 2.543h-4.811v-4.811c0.718 0.556 1.584 1.309 2.543 2.268zM28 29.5c0 0.271-0.229 0.5-0.5 0.5h-23c-0.271 0-0.5-0.229-0.5-0.5v-27c0-0.271 0.229-0.5 0.5-0.5 0 0 15.499-0 15.5 0v7c0 0.552 0.448 1 1 1h7v19.5z\"></path>\n",
       "<path d=\"M23 26h-14c-0.552 0-1-0.448-1-1s0.448-1 1-1h14c0.552 0 1 0.448 1 1s-0.448 1-1 1z\"></path>\n",
       "<path d=\"M23 22h-14c-0.552 0-1-0.448-1-1s0.448-1 1-1h14c0.552 0 1 0.448 1 1s-0.448 1-1 1z\"></path>\n",
       "<path d=\"M23 18h-14c-0.552 0-1-0.448-1-1s0.448-1 1-1h14c0.552 0 1 0.448 1 1s-0.448 1-1 1z\"></path>\n",
       "</symbol>\n",
       "</defs>\n",
       "</svg>\n",
       "<style>/* CSS stylesheet for displaying xarray objects in jupyterlab.\n",
       " *\n",
       " */\n",
       "\n",
       ":root {\n",
       "  --xr-font-color0: var(--jp-content-font-color0, rgba(0, 0, 0, 1));\n",
       "  --xr-font-color2: var(--jp-content-font-color2, rgba(0, 0, 0, 0.54));\n",
       "  --xr-font-color3: var(--jp-content-font-color3, rgba(0, 0, 0, 0.38));\n",
       "  --xr-border-color: var(--jp-border-color2, #e0e0e0);\n",
       "  --xr-disabled-color: var(--jp-layout-color3, #bdbdbd);\n",
       "  --xr-background-color: var(--jp-layout-color0, white);\n",
       "  --xr-background-color-row-even: var(--jp-layout-color1, white);\n",
       "  --xr-background-color-row-odd: var(--jp-layout-color2, #eeeeee);\n",
       "}\n",
       "\n",
       "html[theme=dark],\n",
       "body.vscode-dark {\n",
       "  --xr-font-color0: rgba(255, 255, 255, 1);\n",
       "  --xr-font-color2: rgba(255, 255, 255, 0.54);\n",
       "  --xr-font-color3: rgba(255, 255, 255, 0.38);\n",
       "  --xr-border-color: #1F1F1F;\n",
       "  --xr-disabled-color: #515151;\n",
       "  --xr-background-color: #111111;\n",
       "  --xr-background-color-row-even: #111111;\n",
       "  --xr-background-color-row-odd: #313131;\n",
       "}\n",
       "\n",
       ".xr-wrap {\n",
       "  display: block !important;\n",
       "  min-width: 300px;\n",
       "  max-width: 700px;\n",
       "}\n",
       "\n",
       ".xr-text-repr-fallback {\n",
       "  /* fallback to plain text repr when CSS is not injected (untrusted notebook) */\n",
       "  display: none;\n",
       "}\n",
       "\n",
       ".xr-header {\n",
       "  padding-top: 6px;\n",
       "  padding-bottom: 6px;\n",
       "  margin-bottom: 4px;\n",
       "  border-bottom: solid 1px var(--xr-border-color);\n",
       "}\n",
       "\n",
       ".xr-header > div,\n",
       ".xr-header > ul {\n",
       "  display: inline;\n",
       "  margin-top: 0;\n",
       "  margin-bottom: 0;\n",
       "}\n",
       "\n",
       ".xr-obj-type,\n",
       ".xr-array-name {\n",
       "  margin-left: 2px;\n",
       "  margin-right: 10px;\n",
       "}\n",
       "\n",
       ".xr-obj-type {\n",
       "  color: var(--xr-font-color2);\n",
       "}\n",
       "\n",
       ".xr-sections {\n",
       "  padding-left: 0 !important;\n",
       "  display: grid;\n",
       "  grid-template-columns: 150px auto auto 1fr 20px 20px;\n",
       "}\n",
       "\n",
       ".xr-section-item {\n",
       "  display: contents;\n",
       "}\n",
       "\n",
       ".xr-section-item input {\n",
       "  display: none;\n",
       "}\n",
       "\n",
       ".xr-section-item input + label {\n",
       "  color: var(--xr-disabled-color);\n",
       "}\n",
       "\n",
       ".xr-section-item input:enabled + label {\n",
       "  cursor: pointer;\n",
       "  color: var(--xr-font-color2);\n",
       "}\n",
       "\n",
       ".xr-section-item input:enabled + label:hover {\n",
       "  color: var(--xr-font-color0);\n",
       "}\n",
       "\n",
       ".xr-section-summary {\n",
       "  grid-column: 1;\n",
       "  color: var(--xr-font-color2);\n",
       "  font-weight: 500;\n",
       "}\n",
       "\n",
       ".xr-section-summary > span {\n",
       "  display: inline-block;\n",
       "  padding-left: 0.5em;\n",
       "}\n",
       "\n",
       ".xr-section-summary-in:disabled + label {\n",
       "  color: var(--xr-font-color2);\n",
       "}\n",
       "\n",
       ".xr-section-summary-in + label:before {\n",
       "  display: inline-block;\n",
       "  content: '►';\n",
       "  font-size: 11px;\n",
       "  width: 15px;\n",
       "  text-align: center;\n",
       "}\n",
       "\n",
       ".xr-section-summary-in:disabled + label:before {\n",
       "  color: var(--xr-disabled-color);\n",
       "}\n",
       "\n",
       ".xr-section-summary-in:checked + label:before {\n",
       "  content: '▼';\n",
       "}\n",
       "\n",
       ".xr-section-summary-in:checked + label > span {\n",
       "  display: none;\n",
       "}\n",
       "\n",
       ".xr-section-summary,\n",
       ".xr-section-inline-details {\n",
       "  padding-top: 4px;\n",
       "  padding-bottom: 4px;\n",
       "}\n",
       "\n",
       ".xr-section-inline-details {\n",
       "  grid-column: 2 / -1;\n",
       "}\n",
       "\n",
       ".xr-section-details {\n",
       "  display: none;\n",
       "  grid-column: 1 / -1;\n",
       "  margin-bottom: 5px;\n",
       "}\n",
       "\n",
       ".xr-section-summary-in:checked ~ .xr-section-details {\n",
       "  display: contents;\n",
       "}\n",
       "\n",
       ".xr-array-wrap {\n",
       "  grid-column: 1 / -1;\n",
       "  display: grid;\n",
       "  grid-template-columns: 20px auto;\n",
       "}\n",
       "\n",
       ".xr-array-wrap > label {\n",
       "  grid-column: 1;\n",
       "  vertical-align: top;\n",
       "}\n",
       "\n",
       ".xr-preview {\n",
       "  color: var(--xr-font-color3);\n",
       "}\n",
       "\n",
       ".xr-array-preview,\n",
       ".xr-array-data {\n",
       "  padding: 0 5px !important;\n",
       "  grid-column: 2;\n",
       "}\n",
       "\n",
       ".xr-array-data,\n",
       ".xr-array-in:checked ~ .xr-array-preview {\n",
       "  display: none;\n",
       "}\n",
       "\n",
       ".xr-array-in:checked ~ .xr-array-data,\n",
       ".xr-array-preview {\n",
       "  display: inline-block;\n",
       "}\n",
       "\n",
       ".xr-dim-list {\n",
       "  display: inline-block !important;\n",
       "  list-style: none;\n",
       "  padding: 0 !important;\n",
       "  margin: 0;\n",
       "}\n",
       "\n",
       ".xr-dim-list li {\n",
       "  display: inline-block;\n",
       "  padding: 0;\n",
       "  margin: 0;\n",
       "}\n",
       "\n",
       ".xr-dim-list:before {\n",
       "  content: '(';\n",
       "}\n",
       "\n",
       ".xr-dim-list:after {\n",
       "  content: ')';\n",
       "}\n",
       "\n",
       ".xr-dim-list li:not(:last-child):after {\n",
       "  content: ',';\n",
       "  padding-right: 5px;\n",
       "}\n",
       "\n",
       ".xr-has-index {\n",
       "  font-weight: bold;\n",
       "}\n",
       "\n",
       ".xr-var-list,\n",
       ".xr-var-item {\n",
       "  display: contents;\n",
       "}\n",
       "\n",
       ".xr-var-item > div,\n",
       ".xr-var-item label,\n",
       ".xr-var-item > .xr-var-name span {\n",
       "  background-color: var(--xr-background-color-row-even);\n",
       "  margin-bottom: 0;\n",
       "}\n",
       "\n",
       ".xr-var-item > .xr-var-name:hover span {\n",
       "  padding-right: 5px;\n",
       "}\n",
       "\n",
       ".xr-var-list > li:nth-child(odd) > div,\n",
       ".xr-var-list > li:nth-child(odd) > label,\n",
       ".xr-var-list > li:nth-child(odd) > .xr-var-name span {\n",
       "  background-color: var(--xr-background-color-row-odd);\n",
       "}\n",
       "\n",
       ".xr-var-name {\n",
       "  grid-column: 1;\n",
       "}\n",
       "\n",
       ".xr-var-dims {\n",
       "  grid-column: 2;\n",
       "}\n",
       "\n",
       ".xr-var-dtype {\n",
       "  grid-column: 3;\n",
       "  text-align: right;\n",
       "  color: var(--xr-font-color2);\n",
       "}\n",
       "\n",
       ".xr-var-preview {\n",
       "  grid-column: 4;\n",
       "}\n",
       "\n",
       ".xr-var-name,\n",
       ".xr-var-dims,\n",
       ".xr-var-dtype,\n",
       ".xr-preview,\n",
       ".xr-attrs dt {\n",
       "  white-space: nowrap;\n",
       "  overflow: hidden;\n",
       "  text-overflow: ellipsis;\n",
       "  padding-right: 10px;\n",
       "}\n",
       "\n",
       ".xr-var-name:hover,\n",
       ".xr-var-dims:hover,\n",
       ".xr-var-dtype:hover,\n",
       ".xr-attrs dt:hover {\n",
       "  overflow: visible;\n",
       "  width: auto;\n",
       "  z-index: 1;\n",
       "}\n",
       "\n",
       ".xr-var-attrs,\n",
       ".xr-var-data {\n",
       "  display: none;\n",
       "  background-color: var(--xr-background-color) !important;\n",
       "  padding-bottom: 5px !important;\n",
       "}\n",
       "\n",
       ".xr-var-attrs-in:checked ~ .xr-var-attrs,\n",
       ".xr-var-data-in:checked ~ .xr-var-data {\n",
       "  display: block;\n",
       "}\n",
       "\n",
       ".xr-var-data > table {\n",
       "  float: right;\n",
       "}\n",
       "\n",
       ".xr-var-name span,\n",
       ".xr-var-data,\n",
       ".xr-attrs {\n",
       "  padding-left: 25px !important;\n",
       "}\n",
       "\n",
       ".xr-attrs,\n",
       ".xr-var-attrs,\n",
       ".xr-var-data {\n",
       "  grid-column: 1 / -1;\n",
       "}\n",
       "\n",
       "dl.xr-attrs {\n",
       "  padding: 0;\n",
       "  margin: 0;\n",
       "  display: grid;\n",
       "  grid-template-columns: 125px auto;\n",
       "}\n",
       "\n",
       ".xr-attrs dt,\n",
       ".xr-attrs dd {\n",
       "  padding: 0;\n",
       "  margin: 0;\n",
       "  float: left;\n",
       "  padding-right: 10px;\n",
       "  width: auto;\n",
       "}\n",
       "\n",
       ".xr-attrs dt {\n",
       "  font-weight: normal;\n",
       "  grid-column: 1;\n",
       "}\n",
       "\n",
       ".xr-attrs dt:hover span {\n",
       "  display: inline-block;\n",
       "  background: var(--xr-background-color);\n",
       "  padding-right: 10px;\n",
       "}\n",
       "\n",
       ".xr-attrs dd {\n",
       "  grid-column: 2;\n",
       "  white-space: pre-wrap;\n",
       "  word-break: break-all;\n",
       "}\n",
       "\n",
       ".xr-icon-database,\n",
       ".xr-icon-file-text2 {\n",
       "  display: inline-block;\n",
       "  vertical-align: middle;\n",
       "  width: 1em;\n",
       "  height: 1.5em !important;\n",
       "  stroke-width: 0;\n",
       "  stroke: currentColor;\n",
       "  fill: currentColor;\n",
       "}\n",
       "</style><pre class='xr-text-repr-fallback'>&lt;xarray.Dataset&gt;\n",
       "Dimensions:      (band: 1, x: 1000, y: 800)\n",
       "Coordinates:\n",
       "  * band         (band) int32 1\n",
       "  * x            (x) float64 3.945e+05 3.945e+05 ... 3.947e+05 3.947e+05\n",
       "  * y            (y) float64 3.872e+06 3.872e+06 ... 3.871e+06 3.871e+06\n",
       "    spatial_ref  int32 0\n",
       "Data variables:\n",
       "    band_data    (band, y, x) float32 ...</pre><div class='xr-wrap' style='display:none'><div class='xr-header'><div class='xr-obj-type'>xarray.Dataset</div></div><ul class='xr-sections'><li class='xr-section-item'><input id='section-abd050fe-3f47-4b9d-90a3-7b9b67affb6c' class='xr-section-summary-in' type='checkbox' disabled ><label for='section-abd050fe-3f47-4b9d-90a3-7b9b67affb6c' class='xr-section-summary'  title='Expand/collapse section'>Dimensions:</label><div class='xr-section-inline-details'><ul class='xr-dim-list'><li><span class='xr-has-index'>band</span>: 1</li><li><span class='xr-has-index'>x</span>: 1000</li><li><span class='xr-has-index'>y</span>: 800</li></ul></div><div class='xr-section-details'></div></li><li class='xr-section-item'><input id='section-e40c83fb-d9dd-42ed-ac9f-06c078878327' class='xr-section-summary-in' type='checkbox'  checked><label for='section-e40c83fb-d9dd-42ed-ac9f-06c078878327' class='xr-section-summary' >Coordinates: <span>(4)</span></label><div class='xr-section-inline-details'></div><div class='xr-section-details'><ul class='xr-var-list'><li class='xr-var-item'><div class='xr-var-name'><span class='xr-has-index'>band</span></div><div class='xr-var-dims'>(band)</div><div class='xr-var-dtype'>int32</div><div class='xr-var-preview xr-preview'>1</div><input id='attrs-15508096-da3e-436c-9354-15850253235e' class='xr-var-attrs-in' type='checkbox' disabled><label for='attrs-15508096-da3e-436c-9354-15850253235e' title='Show/Hide attributes'><svg class='icon xr-icon-file-text2'><use xlink:href='#icon-file-text2'></use></svg></label><input id='data-ec216c42-6371-4f8b-a63d-63fc0ba19685' class='xr-var-data-in' type='checkbox'><label for='data-ec216c42-6371-4f8b-a63d-63fc0ba19685' title='Show/Hide data repr'><svg class='icon xr-icon-database'><use xlink:href='#icon-database'></use></svg></label><div class='xr-var-attrs'><dl class='xr-attrs'></dl></div><div class='xr-var-data'><pre>array([1])</pre></div></li><li class='xr-var-item'><div class='xr-var-name'><span class='xr-has-index'>x</span></div><div class='xr-var-dims'>(x)</div><div class='xr-var-dtype'>float64</div><div class='xr-var-preview xr-preview'>3.945e+05 3.945e+05 ... 3.947e+05</div><input id='attrs-76acfb27-7858-407b-91cc-70afc5fae160' class='xr-var-attrs-in' type='checkbox' disabled><label for='attrs-76acfb27-7858-407b-91cc-70afc5fae160' title='Show/Hide attributes'><svg class='icon xr-icon-file-text2'><use xlink:href='#icon-file-text2'></use></svg></label><input id='data-5afe9e8b-95fa-41c7-98ff-078e53e2d721' class='xr-var-data-in' type='checkbox'><label for='data-5afe9e8b-95fa-41c7-98ff-078e53e2d721' title='Show/Hide data repr'><svg class='icon xr-icon-database'><use xlink:href='#icon-database'></use></svg></label><div class='xr-var-attrs'><dl class='xr-attrs'></dl></div><div class='xr-var-data'><pre>array([394500.125, 394500.375, 394500.625, ..., 394749.375, 394749.625,\n",
       "       394749.875])</pre></div></li><li class='xr-var-item'><div class='xr-var-name'><span class='xr-has-index'>y</span></div><div class='xr-var-dims'>(y)</div><div class='xr-var-dtype'>float64</div><div class='xr-var-preview xr-preview'>3.872e+06 3.872e+06 ... 3.871e+06</div><input id='attrs-ed099b9f-68bd-4ac2-b1e5-a1c85912347c' class='xr-var-attrs-in' type='checkbox' disabled><label for='attrs-ed099b9f-68bd-4ac2-b1e5-a1c85912347c' title='Show/Hide attributes'><svg class='icon xr-icon-file-text2'><use xlink:href='#icon-file-text2'></use></svg></label><input id='data-94c4766c-2b4f-4cbe-aeec-190770bc57cc' class='xr-var-data-in' type='checkbox'><label for='data-94c4766c-2b4f-4cbe-aeec-190770bc57cc' title='Show/Hide data repr'><svg class='icon xr-icon-database'><use xlink:href='#icon-database'></use></svg></label><div class='xr-var-attrs'><dl class='xr-attrs'></dl></div><div class='xr-var-data'><pre>array([3871679.875, 3871679.625, 3871679.375, ..., 3871480.625, 3871480.375,\n",
       "       3871480.125])</pre></div></li><li class='xr-var-item'><div class='xr-var-name'><span>spatial_ref</span></div><div class='xr-var-dims'>()</div><div class='xr-var-dtype'>int32</div><div class='xr-var-preview xr-preview'>...</div><input id='attrs-e9122797-7ea1-4234-aabb-b3167352ca6a' class='xr-var-attrs-in' type='checkbox' ><label for='attrs-e9122797-7ea1-4234-aabb-b3167352ca6a' title='Show/Hide attributes'><svg class='icon xr-icon-file-text2'><use xlink:href='#icon-file-text2'></use></svg></label><input id='data-3eb27b8b-b404-4ad0-9e64-76fe8e866ea8' class='xr-var-data-in' type='checkbox'><label for='data-3eb27b8b-b404-4ad0-9e64-76fe8e866ea8' title='Show/Hide data repr'><svg class='icon xr-icon-database'><use xlink:href='#icon-database'></use></svg></label><div class='xr-var-attrs'><dl class='xr-attrs'><dt><span>crs_wkt :</span></dt><dd>PROJCS[&quot;NAD_1983_2011_UTM_Zone_18N&quot;,GEOGCS[&quot;NAD83(2011)&quot;,DATUM[&quot;NAD83_National_Spatial_Reference_System_2011&quot;,SPHEROID[&quot;GRS 1980&quot;,6378137,298.257222101004,AUTHORITY[&quot;EPSG&quot;,&quot;7019&quot;]],AUTHORITY[&quot;EPSG&quot;,&quot;1116&quot;]],PRIMEM[&quot;Greenwich&quot;,0],UNIT[&quot;degree&quot;,0.0174532925199433,AUTHORITY[&quot;EPSG&quot;,&quot;9122&quot;]],AUTHORITY[&quot;EPSG&quot;,&quot;6318&quot;]],PROJECTION[&quot;Transverse_Mercator&quot;],PARAMETER[&quot;latitude_of_origin&quot;,0],PARAMETER[&quot;central_meridian&quot;,-75],PARAMETER[&quot;scale_factor&quot;,0.9996],PARAMETER[&quot;false_easting&quot;,500000],PARAMETER[&quot;false_northing&quot;,0],UNIT[&quot;metre&quot;,1,AUTHORITY[&quot;EPSG&quot;,&quot;9001&quot;]],AXIS[&quot;Easting&quot;,EAST],AXIS[&quot;Northing&quot;,NORTH],AUTHORITY[&quot;EPSG&quot;,&quot;6347&quot;]]</dd><dt><span>semi_major_axis :</span></dt><dd>6378137.0</dd><dt><span>semi_minor_axis :</span></dt><dd>6356752.314140356</dd><dt><span>inverse_flattening :</span></dt><dd>298.257222101004</dd><dt><span>reference_ellipsoid_name :</span></dt><dd>GRS 1980</dd><dt><span>longitude_of_prime_meridian :</span></dt><dd>0.0</dd><dt><span>prime_meridian_name :</span></dt><dd>Greenwich</dd><dt><span>geographic_crs_name :</span></dt><dd>NAD83(2011)</dd><dt><span>horizontal_datum_name :</span></dt><dd>NAD83 (National Spatial Reference System 2011)</dd><dt><span>projected_crs_name :</span></dt><dd>NAD_1983_2011_UTM_Zone_18N</dd><dt><span>grid_mapping_name :</span></dt><dd>transverse_mercator</dd><dt><span>latitude_of_projection_origin :</span></dt><dd>0.0</dd><dt><span>longitude_of_central_meridian :</span></dt><dd>-75.0</dd><dt><span>false_easting :</span></dt><dd>500000.0</dd><dt><span>false_northing :</span></dt><dd>0.0</dd><dt><span>scale_factor_at_central_meridian :</span></dt><dd>0.9996</dd><dt><span>spatial_ref :</span></dt><dd>PROJCS[&quot;NAD_1983_2011_UTM_Zone_18N&quot;,GEOGCS[&quot;NAD83(2011)&quot;,DATUM[&quot;NAD83_National_Spatial_Reference_System_2011&quot;,SPHEROID[&quot;GRS 1980&quot;,6378137,298.257222101004,AUTHORITY[&quot;EPSG&quot;,&quot;7019&quot;]],AUTHORITY[&quot;EPSG&quot;,&quot;1116&quot;]],PRIMEM[&quot;Greenwich&quot;,0],UNIT[&quot;degree&quot;,0.0174532925199433,AUTHORITY[&quot;EPSG&quot;,&quot;9122&quot;]],AUTHORITY[&quot;EPSG&quot;,&quot;6318&quot;]],PROJECTION[&quot;Transverse_Mercator&quot;],PARAMETER[&quot;latitude_of_origin&quot;,0],PARAMETER[&quot;central_meridian&quot;,-75],PARAMETER[&quot;scale_factor&quot;,0.9996],PARAMETER[&quot;false_easting&quot;,500000],PARAMETER[&quot;false_northing&quot;,0],UNIT[&quot;metre&quot;,1,AUTHORITY[&quot;EPSG&quot;,&quot;9001&quot;]],AXIS[&quot;Easting&quot;,EAST],AXIS[&quot;Northing&quot;,NORTH],AUTHORITY[&quot;EPSG&quot;,&quot;6347&quot;]]</dd><dt><span>GeoTransform :</span></dt><dd>394500.0 0.25 0.0 3871680.0 0.0 -0.25</dd></dl></div><div class='xr-var-data'><pre>array(0)</pre></div></li></ul></div></li><li class='xr-section-item'><input id='section-ae4dee2c-b310-4752-a8ee-b68d10ca4639' class='xr-section-summary-in' type='checkbox'  checked><label for='section-ae4dee2c-b310-4752-a8ee-b68d10ca4639' class='xr-section-summary' >Data variables: <span>(1)</span></label><div class='xr-section-inline-details'></div><div class='xr-section-details'><ul class='xr-var-list'><li class='xr-var-item'><div class='xr-var-name'><span>band_data</span></div><div class='xr-var-dims'>(band, y, x)</div><div class='xr-var-dtype'>float32</div><div class='xr-var-preview xr-preview'>...</div><input id='attrs-7915a074-b229-4fa3-90cf-476d528fd8c2' class='xr-var-attrs-in' type='checkbox' disabled><label for='attrs-7915a074-b229-4fa3-90cf-476d528fd8c2' title='Show/Hide attributes'><svg class='icon xr-icon-file-text2'><use xlink:href='#icon-file-text2'></use></svg></label><input id='data-bf1a1b5b-fb44-4c3b-9244-94720755ea6a' class='xr-var-data-in' type='checkbox'><label for='data-bf1a1b5b-fb44-4c3b-9244-94720755ea6a' title='Show/Hide data repr'><svg class='icon xr-icon-database'><use xlink:href='#icon-database'></use></svg></label><div class='xr-var-attrs'><dl class='xr-attrs'></dl></div><div class='xr-var-data'><pre>[800000 values with dtype=float32]</pre></div></li></ul></div></li><li class='xr-section-item'><input id='section-73272d8f-c0ee-4941-8039-44c6a6dfe3f9' class='xr-section-summary-in' type='checkbox' disabled ><label for='section-73272d8f-c0ee-4941-8039-44c6a6dfe3f9' class='xr-section-summary'  title='Expand/collapse section'>Attributes: <span>(0)</span></label><div class='xr-section-inline-details'></div><div class='xr-section-details'><dl class='xr-attrs'></dl></div></li></ul></div></div>"
      ],
      "text/plain": [
       "<xarray.Dataset>\n",
       "Dimensions:      (band: 1, x: 1000, y: 800)\n",
       "Coordinates:\n",
       "  * band         (band) int32 1\n",
       "  * x            (x) float64 3.945e+05 3.945e+05 ... 3.947e+05 3.947e+05\n",
       "  * y            (y) float64 3.872e+06 3.872e+06 ... 3.871e+06 3.871e+06\n",
       "    spatial_ref  int32 ...\n",
       "Data variables:\n",
       "    band_data    (band, y, x) float32 ..."
      ]
     },
     "execution_count": 9,
     "metadata": {},
     "output_type": "execute_result"
    }
   ],
   "source": [
    "dsx = xr.open_dataset(out_dir+dem_fname)\n",
    "dsx"
   ]
  },
  {
   "cell_type": "code",
   "execution_count": 10,
   "id": "bab8cc45",
   "metadata": {},
   "outputs": [
    {
     "name": "stdout",
     "output_type": "stream",
     "text": [
      "dtype: float32 shape (800, 1000)\n",
      "Number of nans: 624\n",
      "2.5% 1.0, 97.5% 4.0\n",
      "1% 0.0, 99% 4.0\n",
      "min 0.0, max 6.0\n",
      "median 1.0, mean 1.622356653213501\n",
      "dtype: uint8 shape (800, 1000)\n",
      "Number of nans: 0\n",
      "2.5% 42.0, 97.5% 170.0\n",
      "1% 0.0, 99% 170.0\n",
      "min 0, max 255\n",
      "median 42.0, mean 68.68104\n"
     ]
    }
   ],
   "source": [
    "el = np.squeeze(np.array(dsx.band_data))\n",
    "twod_stats(el)\n",
    "\n",
    "eln = normalized_uint8(el, nan_val = np.nan)\n",
    "twod_stats(eln)"
   ]
  },
  {
   "cell_type": "code",
   "execution_count": 11,
   "id": "ba09356f",
   "metadata": {},
   "outputs": [
    {
     "data": {
      "text/plain": [
       "<matplotlib.image.AxesImage at 0x1a72a284130>"
      ]
     },
     "execution_count": 11,
     "metadata": {},
     "output_type": "execute_result"
    },
    {
     "data": {
      "image/png": "[encoded data removed]",
      "text/plain": [
       "<Figure size 432x288 with 1 Axes>"
      ]
     },
     "metadata": {
      "needs_background": "light"
     },
     "output_type": "display_data"
    }
   ],
   "source": [
    "plt.imshow(eln, cmap='gray')"
   ]
  },
  {
   "cell_type": "markdown",
   "id": "9e71bebe",
   "metadata": {},
   "source": [
    "### Use Gdal to clip the same sub-region out of the big ortho"
   ]
  },
  {
   "cell_type": "code",
   "execution_count": 12,
   "id": "e7b5b28a",
   "metadata": {},
   "outputs": [
    {
     "name": "stdout",
     "output_type": "stream",
     "text": [
      "gdal_translate -projwin 394500.0 3871680.0 394750.0 3871480.0 -b 1 -b 2 -b 3 -of JPEG  C:/crs/proj/2019_DorianOBX/2021-07-27_FloSup_Products/ortho_cog/20190830_Ocracoke_Inlet_to_Ophelia_Inlet_RGBavg_NAD83_2011_UTM18_0.25m_cog.tif C:/crs/proj/2022_Composite_Experiment/Composite_Experiment/jpeg_composites/small_ortho.jpg\n"
     ]
    },
    {
     "data": {
      "text/plain": [
       "0"
      ]
     },
     "execution_count": 12,
     "metadata": {},
     "output_type": "execute_result"
    }
   ],
   "source": [
    "infile = big_ortho_dir+big_ortho_fname\n",
    "outfile = out_dir+ortho_fname\n",
    "\n",
    "gdal_cmd = 'gdal_translate -projwin {} {} {} {} -b 1 -b 2 -b 3 -of JPEG  {} {}'.format(ulx, uly, lrx, lry, infile, outfile)\n",
    "print(gdal_cmd)\n",
    "os.system(gdal_cmd)\n",
    "os.system('gdalinfo {}'.format(outfile))"
   ]
  },
  {
   "cell_type": "markdown",
   "id": "dca7f4b9",
   "metadata": {},
   "source": [
    "### Read in the small ortho"
   ]
  },
  {
   "cell_type": "code",
   "execution_count": 13,
   "id": "52e7ee96",
   "metadata": {},
   "outputs": [
    {
     "name": "stdout",
     "output_type": "stream",
     "text": [
      "Band 2.5% 39.0, 97.5% 186.0\n",
      "Band 1% 33.0, 99% 194.0\n",
      "Red band mean: 95.825065\n"
     ]
    }
   ],
   "source": [
    "# open the small ortho\n",
    "ds = gdal.Open(out_dir+ortho_fname, gdal.GA_ReadOnly)\n",
    "\n",
    "# Allocate an array using the first band's datatype\n",
    "image_datatype = ds.GetRasterBand(1).DataType\n",
    "\n",
    "image = np.zeros((ds.RasterYSize, ds.RasterXSize, ds.RasterCount),\n",
    "                  dtype=gdal_array.GDALTypeCodeToNumericTypeCode(image_datatype))\n",
    "\n",
    "# # Loop over all bands in dataset\n",
    "for b in range(ds.RasterCount):\n",
    "    band = ds.GetRasterBand(b + 1)   \n",
    "    # Read in the band's data into the third dimension of our array\n",
    "    image[:, :, b] = band.ReadAsArray()\n",
    "\n",
    "print('Band 2.5% {}, 97.5% {}'.format(np.nanpercentile(image, 2.5), np.nanpercentile(image, 97.5)))\n",
    "print('Band 1% {}, 99% {}'.format(np.nanpercentile(image, 1), np.nanpercentile(image, 99)))\n",
    "\n",
    "print('Red band mean: {r}'.format(r=image[:, :, 0].mean()))"
   ]
  },
  {
   "cell_type": "markdown",
   "id": "d5eca341",
   "metadata": {},
   "source": [
    "### Compute veg indices"
   ]
  },
  {
   "cell_type": "code",
   "execution_count": 14,
   "id": "08da0c77",
   "metadata": {},
   "outputs": [
    {
     "name": "stdout",
     "output_type": "stream",
     "text": [
      "GRRI:\n",
      "dtype: float64 shape (800, 1000)\n",
      "Number of nans: 0\n",
      "2.5% 0.9540229885057471, 97.5% 1.3095238095238095\n",
      "1% 0.9404761904761905, 99% 1.3714285714285714\n",
      "min 0.8135593220338984, max 5.25\n",
      "median 1.0108695652173914, mean 1.0445999812659192\n",
      "\n",
      "GRRI_n\n",
      "dtype: uint8 shape (800, 1000)\n",
      "Number of nans: 0\n",
      "2.5% 8.0, 97.5% 29.0\n",
      "1% 7.0, 99% 32.0\n",
      "min 0, max 255\n",
      "median 11.0, mean 13.2556675\n"
     ]
    }
   ],
   "source": [
    "GRRI = GRRI_func(image)\n",
    "print('GRRI:')\n",
    "twod_stats(GRRI)\n",
    "print('\\nGRRI_n')\n",
    "GRRI_n = normalized_uint8( GRRI )\n",
    "twod_stats(GRRI_n)"
   ]
  },
  {
   "cell_type": "code",
   "execution_count": 15,
   "id": "1333c239",
   "metadata": {},
   "outputs": [
    {
     "data": {
      "text/plain": [
       "<matplotlib.colorbar.Colorbar at 0x1a7259b3700>"
      ]
     },
     "execution_count": 15,
     "metadata": {},
     "output_type": "execute_result"
    },
    {
     "data": {
      "image/png": "[encoded data removed]",
      "text/plain": [
       "<Figure size 432x288 with 2 Axes>"
      ]
     },
     "metadata": {
      "needs_background": "light"
     },
     "output_type": "display_data"
    }
   ],
   "source": [
    "plt.imshow(GRRI_n, cmap = 'pink', vmin=0, vmax=100)\n",
    "plt.colorbar()"
   ]
  },
  {
   "cell_type": "code",
   "execution_count": 16,
   "id": "916abbd2",
   "metadata": {},
   "outputs": [
    {
     "name": "stdout",
     "output_type": "stream",
     "text": [
      "dtype: uint8 shape (800, 1000)\n",
      "Number of nans: 0\n",
      "2.5% 39.0, 97.5% 187.0\n",
      "1% 34.0, 99% 195.0\n",
      "min 4, max 213\n",
      "median 87.0, mean 95.825065\n",
      "dtype: uint8 shape (800, 1000)\n",
      "Number of nans: 0\n",
      "2.5% 48.0, 97.5% 187.0\n",
      "1% 44.0, 99% 195.0\n",
      "min 13, max 215\n",
      "median 88.0, mean 98.10460625\n",
      "dtype: uint8 shape (800, 1000)\n",
      "Number of nans: 0\n",
      "2.5% 34.0, 97.5% 185.0\n",
      "1% 29.0, 99% 194.0\n",
      "min 7, max 216\n",
      "median 81.0, mean 90.24565875\n"
     ]
    },
    {
     "name": "stderr",
     "output_type": "stream",
     "text": [
      "C:\\Users\\csherwood\\AppData\\Local\\Temp\\1\\ipykernel_2700\\3713389985.py:19: RuntimeWarning: divide by zero encountered in true_divide\n",
      "  GRVI = (im[:,:,g]-im[:,:,r])/(im[:,:,g]+im[:,:,r])\n",
      "C:\\Users\\csherwood\\AppData\\Local\\Temp\\1\\ipykernel_2700\\3713389985.py:19: RuntimeWarning: invalid value encountered in true_divide\n",
      "  GRVI = (im[:,:,g]-im[:,:,r])/(im[:,:,g]+im[:,:,r])\n"
     ]
    },
    {
     "data": {
      "text/plain": [
       "<function __main__.twod_stats(im)>"
      ]
     },
     "execution_count": 16,
     "metadata": {},
     "output_type": "execute_result"
    }
   ],
   "source": [
    "twod_stats(image[:,:,0])\n",
    "twod_stats(image[:,:,1])\n",
    "twod_stats(image[:,:,2])\n",
    "\n",
    "GRVI = GRVI_func(image)\n",
    "twod_stats"
   ]
  },
  {
   "cell_type": "code",
   "execution_count": 17,
   "id": "74eef20a",
   "metadata": {},
   "outputs": [
    {
     "name": "stderr",
     "output_type": "stream",
     "text": [
      "C:\\Users\\csherwood\\AppData\\Local\\Temp\\1\\ipykernel_2700\\3713389985.py:19: RuntimeWarning: divide by zero encountered in true_divide\n",
      "  GRVI = (im[:,:,g]-im[:,:,r])/(im[:,:,g]+im[:,:,r])\n",
      "C:\\Users\\csherwood\\AppData\\Local\\Temp\\1\\ipykernel_2700\\3713389985.py:19: RuntimeWarning: invalid value encountered in true_divide\n",
      "  GRVI = (im[:,:,g]-im[:,:,r])/(im[:,:,g]+im[:,:,r])\n",
      "C:\\Users\\csherwood\\AppData\\Local\\Temp\\1\\ipykernel_2700\\3713389985.py:7: RuntimeWarning: invalid value encountered in true_divide\n",
      "  ar = np.round(255*(ar-amin)/(amax-amin))\n"
     ]
    },
    {
     "data": {
      "text/plain": [
       "<matplotlib.colorbar.Colorbar at 0x1a72dc81130>"
      ]
     },
     "execution_count": 17,
     "metadata": {},
     "output_type": "execute_result"
    },
    {
     "data": {
      "image/png": "[encoded data removed]",
      "text/plain": [
       "<Figure size 432x288 with 2 Axes>"
      ]
     },
     "metadata": {
      "needs_background": "light"
     },
     "output_type": "display_data"
    }
   ],
   "source": [
    "plt.imshow(normalized_uint8(GRVI_func(image), nan_val = np.nan), cmap = 'pink')\n",
    "plt.colorbar()"
   ]
  },
  {
   "cell_type": "markdown",
   "id": "14739009",
   "metadata": {},
   "source": [
    "### Compute grayscale image"
   ]
  },
  {
   "cell_type": "code",
   "execution_count": 18,
   "id": "e7a54e91",
   "metadata": {},
   "outputs": [
    {
     "data": {
      "text/plain": [
       "<matplotlib.image.AxesImage at 0x1a72dd34430>"
      ]
     },
     "execution_count": 18,
     "metadata": {},
     "output_type": "execute_result"
    },
    {
     "data": {
      "image/png": "[encoded data removed]",
      "text/plain": [
       "<Figure size 432x288 with 1 Axes>"
      ]
     },
     "metadata": {
      "needs_background": "light"
     },
     "output_type": "display_data"
    }
   ],
   "source": [
    "im_gray = gray_func(image)\n",
    "plt.imshow(im_gray, cmap='gray')"
   ]
  },
  {
   "cell_type": "markdown",
   "id": "bc7d6774",
   "metadata": {},
   "source": [
    "### Use rasterio to read small ortho for use as a template"
   ]
  },
  {
   "cell_type": "code",
   "execution_count": 19,
   "id": "6a29555f",
   "metadata": {},
   "outputs": [
    {
     "data": {
      "text/html": [
       "<div><svg style=\"position: absolute; width: 0; height: 0; overflow: hidden\">\n",
       "<defs>\n",
       "<symbol id=\"icon-database\" viewBox=\"0 0 32 32\">\n",
       "<path d=\"M16 0c-8.837 0-16 2.239-16 5v4c0 2.761 7.163 5 16 5s16-2.239 16-5v-4c0-2.761-7.163-5-16-5z\"></path>\n",
       "<path d=\"M16 17c-8.837 0-16-2.239-16-5v6c0 2.761 7.163 5 16 5s16-2.239 16-5v-6c0 2.761-7.163 5-16 5z\"></path>\n",
       "<path d=\"M16 26c-8.837 0-16-2.239-16-5v6c0 2.761 7.163 5 16 5s16-2.239 16-5v-6c0 2.761-7.163 5-16 5z\"></path>\n",
       "</symbol>\n",
       "<symbol id=\"icon-file-text2\" viewBox=\"0 0 32 32\">\n",
       "<path d=\"M28.681 7.159c-0.694-0.947-1.662-2.053-2.724-3.116s-2.169-2.030-3.116-2.724c-1.612-1.182-2.393-1.319-2.841-1.319h-15.5c-1.378 0-2.5 1.121-2.5 2.5v27c0 1.378 1.122 2.5 2.5 2.5h23c1.378 0 2.5-1.122 2.5-2.5v-19.5c0-0.448-0.137-1.23-1.319-2.841zM24.543 5.457c0.959 0.959 1.712 1.825 2.268 2.543h-4.811v-4.811c0.718 0.556 1.584 1.309 2.543 2.268zM28 29.5c0 0.271-0.229 0.5-0.5 0.5h-23c-0.271 0-0.5-0.229-0.5-0.5v-27c0-0.271 0.229-0.5 0.5-0.5 0 0 15.499-0 15.5 0v7c0 0.552 0.448 1 1 1h7v19.5z\"></path>\n",
       "<path d=\"M23 26h-14c-0.552 0-1-0.448-1-1s0.448-1 1-1h14c0.552 0 1 0.448 1 1s-0.448 1-1 1z\"></path>\n",
       "<path d=\"M23 22h-14c-0.552 0-1-0.448-1-1s0.448-1 1-1h14c0.552 0 1 0.448 1 1s-0.448 1-1 1z\"></path>\n",
       "<path d=\"M23 18h-14c-0.552 0-1-0.448-1-1s0.448-1 1-1h14c0.552 0 1 0.448 1 1s-0.448 1-1 1z\"></path>\n",
       "</symbol>\n",
       "</defs>\n",
       "</svg>\n",
       "<style>/* CSS stylesheet for displaying xarray objects in jupyterlab.\n",
       " *\n",
       " */\n",
       "\n",
       ":root {\n",
       "  --xr-font-color0: var(--jp-content-font-color0, rgba(0, 0, 0, 1));\n",
       "  --xr-font-color2: var(--jp-content-font-color2, rgba(0, 0, 0, 0.54));\n",
       "  --xr-font-color3: var(--jp-content-font-color3, rgba(0, 0, 0, 0.38));\n",
       "  --xr-border-color: var(--jp-border-color2, #e0e0e0);\n",
       "  --xr-disabled-color: var(--jp-layout-color3, #bdbdbd);\n",
       "  --xr-background-color: var(--jp-layout-color0, white);\n",
       "  --xr-background-color-row-even: var(--jp-layout-color1, white);\n",
       "  --xr-background-color-row-odd: var(--jp-layout-color2, #eeeeee);\n",
       "}\n",
       "\n",
       "html[theme=dark],\n",
       "body.vscode-dark {\n",
       "  --xr-font-color0: rgba(255, 255, 255, 1);\n",
       "  --xr-font-color2: rgba(255, 255, 255, 0.54);\n",
       "  --xr-font-color3: rgba(255, 255, 255, 0.38);\n",
       "  --xr-border-color: #1F1F1F;\n",
       "  --xr-disabled-color: #515151;\n",
       "  --xr-background-color: #111111;\n",
       "  --xr-background-color-row-even: #111111;\n",
       "  --xr-background-color-row-odd: #313131;\n",
       "}\n",
       "\n",
       ".xr-wrap {\n",
       "  display: block !important;\n",
       "  min-width: 300px;\n",
       "  max-width: 700px;\n",
       "}\n",
       "\n",
       ".xr-text-repr-fallback {\n",
       "  /* fallback to plain text repr when CSS is not injected (untrusted notebook) */\n",
       "  display: none;\n",
       "}\n",
       "\n",
       ".xr-header {\n",
       "  padding-top: 6px;\n",
       "  padding-bottom: 6px;\n",
       "  margin-bottom: 4px;\n",
       "  border-bottom: solid 1px var(--xr-border-color);\n",
       "}\n",
       "\n",
       ".xr-header > div,\n",
       ".xr-header > ul {\n",
       "  display: inline;\n",
       "  margin-top: 0;\n",
       "  margin-bottom: 0;\n",
       "}\n",
       "\n",
       ".xr-obj-type,\n",
       ".xr-array-name {\n",
       "  margin-left: 2px;\n",
       "  margin-right: 10px;\n",
       "}\n",
       "\n",
       ".xr-obj-type {\n",
       "  color: var(--xr-font-color2);\n",
       "}\n",
       "\n",
       ".xr-sections {\n",
       "  padding-left: 0 !important;\n",
       "  display: grid;\n",
       "  grid-template-columns: 150px auto auto 1fr 20px 20px;\n",
       "}\n",
       "\n",
       ".xr-section-item {\n",
       "  display: contents;\n",
       "}\n",
       "\n",
       ".xr-section-item input {\n",
       "  display: none;\n",
       "}\n",
       "\n",
       ".xr-section-item input + label {\n",
       "  color: var(--xr-disabled-color);\n",
       "}\n",
       "\n",
       ".xr-section-item input:enabled + label {\n",
       "  cursor: pointer;\n",
       "  color: var(--xr-font-color2);\n",
       "}\n",
       "\n",
       ".xr-section-item input:enabled + label:hover {\n",
       "  color: var(--xr-font-color0);\n",
       "}\n",
       "\n",
       ".xr-section-summary {\n",
       "  grid-column: 1;\n",
       "  color: var(--xr-font-color2);\n",
       "  font-weight: 500;\n",
       "}\n",
       "\n",
       ".xr-section-summary > span {\n",
       "  display: inline-block;\n",
       "  padding-left: 0.5em;\n",
       "}\n",
       "\n",
       ".xr-section-summary-in:disabled + label {\n",
       "  color: var(--xr-font-color2);\n",
       "}\n",
       "\n",
       ".xr-section-summary-in + label:before {\n",
       "  display: inline-block;\n",
       "  content: '►';\n",
       "  font-size: 11px;\n",
       "  width: 15px;\n",
       "  text-align: center;\n",
       "}\n",
       "\n",
       ".xr-section-summary-in:disabled + label:before {\n",
       "  color: var(--xr-disabled-color);\n",
       "}\n",
       "\n",
       ".xr-section-summary-in:checked + label:before {\n",
       "  content: '▼';\n",
       "}\n",
       "\n",
       ".xr-section-summary-in:checked + label > span {\n",
       "  display: none;\n",
       "}\n",
       "\n",
       ".xr-section-summary,\n",
       ".xr-section-inline-details {\n",
       "  padding-top: 4px;\n",
       "  padding-bottom: 4px;\n",
       "}\n",
       "\n",
       ".xr-section-inline-details {\n",
       "  grid-column: 2 / -1;\n",
       "}\n",
       "\n",
       ".xr-section-details {\n",
       "  display: none;\n",
       "  grid-column: 1 / -1;\n",
       "  margin-bottom: 5px;\n",
       "}\n",
       "\n",
       ".xr-section-summary-in:checked ~ .xr-section-details {\n",
       "  display: contents;\n",
       "}\n",
       "\n",
       ".xr-array-wrap {\n",
       "  grid-column: 1 / -1;\n",
       "  display: grid;\n",
       "  grid-template-columns: 20px auto;\n",
       "}\n",
       "\n",
       ".xr-array-wrap > label {\n",
       "  grid-column: 1;\n",
       "  vertical-align: top;\n",
       "}\n",
       "\n",
       ".xr-preview {\n",
       "  color: var(--xr-font-color3);\n",
       "}\n",
       "\n",
       ".xr-array-preview,\n",
       ".xr-array-data {\n",
       "  padding: 0 5px !important;\n",
       "  grid-column: 2;\n",
       "}\n",
       "\n",
       ".xr-array-data,\n",
       ".xr-array-in:checked ~ .xr-array-preview {\n",
       "  display: none;\n",
       "}\n",
       "\n",
       ".xr-array-in:checked ~ .xr-array-data,\n",
       ".xr-array-preview {\n",
       "  display: inline-block;\n",
       "}\n",
       "\n",
       ".xr-dim-list {\n",
       "  display: inline-block !important;\n",
       "  list-style: none;\n",
       "  padding: 0 !important;\n",
       "  margin: 0;\n",
       "}\n",
       "\n",
       ".xr-dim-list li {\n",
       "  display: inline-block;\n",
       "  padding: 0;\n",
       "  margin: 0;\n",
       "}\n",
       "\n",
       ".xr-dim-list:before {\n",
       "  content: '(';\n",
       "}\n",
       "\n",
       ".xr-dim-list:after {\n",
       "  content: ')';\n",
       "}\n",
       "\n",
       ".xr-dim-list li:not(:last-child):after {\n",
       "  content: ',';\n",
       "  padding-right: 5px;\n",
       "}\n",
       "\n",
       ".xr-has-index {\n",
       "  font-weight: bold;\n",
       "}\n",
       "\n",
       ".xr-var-list,\n",
       ".xr-var-item {\n",
       "  display: contents;\n",
       "}\n",
       "\n",
       ".xr-var-item > div,\n",
       ".xr-var-item label,\n",
       ".xr-var-item > .xr-var-name span {\n",
       "  background-color: var(--xr-background-color-row-even);\n",
       "  margin-bottom: 0;\n",
       "}\n",
       "\n",
       ".xr-var-item > .xr-var-name:hover span {\n",
       "  padding-right: 5px;\n",
       "}\n",
       "\n",
       ".xr-var-list > li:nth-child(odd) > div,\n",
       ".xr-var-list > li:nth-child(odd) > label,\n",
       ".xr-var-list > li:nth-child(odd) > .xr-var-name span {\n",
       "  background-color: var(--xr-background-color-row-odd);\n",
       "}\n",
       "\n",
       ".xr-var-name {\n",
       "  grid-column: 1;\n",
       "}\n",
       "\n",
       ".xr-var-dims {\n",
       "  grid-column: 2;\n",
       "}\n",
       "\n",
       ".xr-var-dtype {\n",
       "  grid-column: 3;\n",
       "  text-align: right;\n",
       "  color: var(--xr-font-color2);\n",
       "}\n",
       "\n",
       ".xr-var-preview {\n",
       "  grid-column: 4;\n",
       "}\n",
       "\n",
       ".xr-var-name,\n",
       ".xr-var-dims,\n",
       ".xr-var-dtype,\n",
       ".xr-preview,\n",
       ".xr-attrs dt {\n",
       "  white-space: nowrap;\n",
       "  overflow: hidden;\n",
       "  text-overflow: ellipsis;\n",
       "  padding-right: 10px;\n",
       "}\n",
       "\n",
       ".xr-var-name:hover,\n",
       ".xr-var-dims:hover,\n",
       ".xr-var-dtype:hover,\n",
       ".xr-attrs dt:hover {\n",
       "  overflow: visible;\n",
       "  width: auto;\n",
       "  z-index: 1;\n",
       "}\n",
       "\n",
       ".xr-var-attrs,\n",
       ".xr-var-data {\n",
       "  display: none;\n",
       "  background-color: var(--xr-background-color) !important;\n",
       "  padding-bottom: 5px !important;\n",
       "}\n",
       "\n",
       ".xr-var-attrs-in:checked ~ .xr-var-attrs,\n",
       ".xr-var-data-in:checked ~ .xr-var-data {\n",
       "  display: block;\n",
       "}\n",
       "\n",
       ".xr-var-data > table {\n",
       "  float: right;\n",
       "}\n",
       "\n",
       ".xr-var-name span,\n",
       ".xr-var-data,\n",
       ".xr-attrs {\n",
       "  padding-left: 25px !important;\n",
       "}\n",
       "\n",
       ".xr-attrs,\n",
       ".xr-var-attrs,\n",
       ".xr-var-data {\n",
       "  grid-column: 1 / -1;\n",
       "}\n",
       "\n",
       "dl.xr-attrs {\n",
       "  padding: 0;\n",
       "  margin: 0;\n",
       "  display: grid;\n",
       "  grid-template-columns: 125px auto;\n",
       "}\n",
       "\n",
       ".xr-attrs dt,\n",
       ".xr-attrs dd {\n",
       "  padding: 0;\n",
       "  margin: 0;\n",
       "  float: left;\n",
       "  padding-right: 10px;\n",
       "  width: auto;\n",
       "}\n",
       "\n",
       ".xr-attrs dt {\n",
       "  font-weight: normal;\n",
       "  grid-column: 1;\n",
       "}\n",
       "\n",
       ".xr-attrs dt:hover span {\n",
       "  display: inline-block;\n",
       "  background: var(--xr-background-color);\n",
       "  padding-right: 10px;\n",
       "}\n",
       "\n",
       ".xr-attrs dd {\n",
       "  grid-column: 2;\n",
       "  white-space: pre-wrap;\n",
       "  word-break: break-all;\n",
       "}\n",
       "\n",
       ".xr-icon-database,\n",
       ".xr-icon-file-text2 {\n",
       "  display: inline-block;\n",
       "  vertical-align: middle;\n",
       "  width: 1em;\n",
       "  height: 1.5em !important;\n",
       "  stroke-width: 0;\n",
       "  stroke: currentColor;\n",
       "  fill: currentColor;\n",
       "}\n",
       "</style><pre class='xr-text-repr-fallback'>&lt;xarray.DataArray (band: 3, y: 800, x: 1000)&gt;\n",
       "[2400000 values with dtype=uint8]\n",
       "Coordinates:\n",
       "  * band         (band) int32 1 2 3\n",
       "  * x            (x) float64 3.945e+05 3.945e+05 ... 3.947e+05 3.947e+05\n",
       "  * y            (y) float64 3.872e+06 3.872e+06 ... 3.871e+06 3.871e+06\n",
       "    spatial_ref  int32 0\n",
       "Attributes:\n",
       "    scale_factor:  1.0\n",
       "    add_offset:    0.0</pre><div class='xr-wrap' style='display:none'><div class='xr-header'><div class='xr-obj-type'>xarray.DataArray</div><div class='xr-array-name'></div><ul class='xr-dim-list'><li><span class='xr-has-index'>band</span>: 3</li><li><span class='xr-has-index'>y</span>: 800</li><li><span class='xr-has-index'>x</span>: 1000</li></ul></div><ul class='xr-sections'><li class='xr-section-item'><div class='xr-array-wrap'><input id='section-4ff3fe08-a82e-4310-b5f2-c26ff45f3fbf' class='xr-array-in' type='checkbox' checked><label for='section-4ff3fe08-a82e-4310-b5f2-c26ff45f3fbf' title='Show/hide data repr'><svg class='icon xr-icon-database'><use xlink:href='#icon-database'></use></svg></label><div class='xr-array-preview xr-preview'><span>...</span></div><div class='xr-array-data'><pre>[2400000 values with dtype=uint8]</pre></div></div></li><li class='xr-section-item'><input id='section-5427c5a3-e330-4a55-92d5-3bc901d0cdaf' class='xr-section-summary-in' type='checkbox'  checked><label for='section-5427c5a3-e330-4a55-92d5-3bc901d0cdaf' class='xr-section-summary' >Coordinates: <span>(4)</span></label><div class='xr-section-inline-details'></div><div class='xr-section-details'><ul class='xr-var-list'><li class='xr-var-item'><div class='xr-var-name'><span class='xr-has-index'>band</span></div><div class='xr-var-dims'>(band)</div><div class='xr-var-dtype'>int32</div><div class='xr-var-preview xr-preview'>1 2 3</div><input id='attrs-cd62bdb8-f875-41ff-a823-761c486ba366' class='xr-var-attrs-in' type='checkbox' disabled><label for='attrs-cd62bdb8-f875-41ff-a823-761c486ba366' title='Show/Hide attributes'><svg class='icon xr-icon-file-text2'><use xlink:href='#icon-file-text2'></use></svg></label><input id='data-e70d4ab4-5b40-44f4-a677-c2db867f6cb7' class='xr-var-data-in' type='checkbox'><label for='data-e70d4ab4-5b40-44f4-a677-c2db867f6cb7' title='Show/Hide data repr'><svg class='icon xr-icon-database'><use xlink:href='#icon-database'></use></svg></label><div class='xr-var-attrs'><dl class='xr-attrs'></dl></div><div class='xr-var-data'><pre>array([1, 2, 3])</pre></div></li><li class='xr-var-item'><div class='xr-var-name'><span class='xr-has-index'>x</span></div><div class='xr-var-dims'>(x)</div><div class='xr-var-dtype'>float64</div><div class='xr-var-preview xr-preview'>3.945e+05 3.945e+05 ... 3.947e+05</div><input id='attrs-9c466b3b-1c50-4ef1-8822-6cd234c2bd20' class='xr-var-attrs-in' type='checkbox' disabled><label for='attrs-9c466b3b-1c50-4ef1-8822-6cd234c2bd20' title='Show/Hide attributes'><svg class='icon xr-icon-file-text2'><use xlink:href='#icon-file-text2'></use></svg></label><input id='data-0ef624c2-e389-42b5-8b6e-d925936b7d6b' class='xr-var-data-in' type='checkbox'><label for='data-0ef624c2-e389-42b5-8b6e-d925936b7d6b' title='Show/Hide data repr'><svg class='icon xr-icon-database'><use xlink:href='#icon-database'></use></svg></label><div class='xr-var-attrs'><dl class='xr-attrs'></dl></div><div class='xr-var-data'><pre>array([394500.125, 394500.375, 394500.625, ..., 394749.375, 394749.625,\n",
       "       394749.875])</pre></div></li><li class='xr-var-item'><div class='xr-var-name'><span class='xr-has-index'>y</span></div><div class='xr-var-dims'>(y)</div><div class='xr-var-dtype'>float64</div><div class='xr-var-preview xr-preview'>3.872e+06 3.872e+06 ... 3.871e+06</div><input id='attrs-0fc32bac-f4d5-48f8-be95-a8a349042c2b' class='xr-var-attrs-in' type='checkbox' disabled><label for='attrs-0fc32bac-f4d5-48f8-be95-a8a349042c2b' title='Show/Hide attributes'><svg class='icon xr-icon-file-text2'><use xlink:href='#icon-file-text2'></use></svg></label><input id='data-491f4016-545b-4c3b-ae55-7ba3dc86ccbb' class='xr-var-data-in' type='checkbox'><label for='data-491f4016-545b-4c3b-ae55-7ba3dc86ccbb' title='Show/Hide data repr'><svg class='icon xr-icon-database'><use xlink:href='#icon-database'></use></svg></label><div class='xr-var-attrs'><dl class='xr-attrs'></dl></div><div class='xr-var-data'><pre>array([3871679.875, 3871679.625, 3871679.375, ..., 3871480.625, 3871480.375,\n",
       "       3871480.125])</pre></div></li><li class='xr-var-item'><div class='xr-var-name'><span>spatial_ref</span></div><div class='xr-var-dims'>()</div><div class='xr-var-dtype'>int32</div><div class='xr-var-preview xr-preview'>0</div><input id='attrs-390417ef-514e-48f0-8b1a-cec923c35911' class='xr-var-attrs-in' type='checkbox' ><label for='attrs-390417ef-514e-48f0-8b1a-cec923c35911' title='Show/Hide attributes'><svg class='icon xr-icon-file-text2'><use xlink:href='#icon-file-text2'></use></svg></label><input id='data-1dd7412d-7099-4e66-863a-4e8f3a50c3a3' class='xr-var-data-in' type='checkbox'><label for='data-1dd7412d-7099-4e66-863a-4e8f3a50c3a3' title='Show/Hide data repr'><svg class='icon xr-icon-database'><use xlink:href='#icon-database'></use></svg></label><div class='xr-var-attrs'><dl class='xr-attrs'><dt><span>crs_wkt :</span></dt><dd>PROJCS[&quot;NAD83(2011) / UTM zone 18N&quot;,GEOGCS[&quot;NAD83(2011)&quot;,DATUM[&quot;NAD83_National_Spatial_Reference_System_2011&quot;,SPHEROID[&quot;GRS 1980&quot;,6378137,298.257222101,AUTHORITY[&quot;EPSG&quot;,&quot;7019&quot;]],AUTHORITY[&quot;EPSG&quot;,&quot;1116&quot;]],PRIMEM[&quot;Greenwich&quot;,0,AUTHORITY[&quot;EPSG&quot;,&quot;8901&quot;]],UNIT[&quot;degree&quot;,0.0174532925199433,AUTHORITY[&quot;EPSG&quot;,&quot;9122&quot;]],AUTHORITY[&quot;EPSG&quot;,&quot;6318&quot;]],PROJECTION[&quot;Transverse_Mercator&quot;],PARAMETER[&quot;latitude_of_origin&quot;,0],PARAMETER[&quot;central_meridian&quot;,-75],PARAMETER[&quot;scale_factor&quot;,0.9996],PARAMETER[&quot;false_easting&quot;,500000],PARAMETER[&quot;false_northing&quot;,0],UNIT[&quot;metre&quot;,1,AUTHORITY[&quot;EPSG&quot;,&quot;9001&quot;]],AXIS[&quot;Easting&quot;,EAST],AXIS[&quot;Northing&quot;,NORTH],AUTHORITY[&quot;EPSG&quot;,&quot;6347&quot;]]</dd><dt><span>semi_major_axis :</span></dt><dd>6378137.0</dd><dt><span>semi_minor_axis :</span></dt><dd>6356752.314140356</dd><dt><span>inverse_flattening :</span></dt><dd>298.257222101</dd><dt><span>reference_ellipsoid_name :</span></dt><dd>GRS 1980</dd><dt><span>longitude_of_prime_meridian :</span></dt><dd>0.0</dd><dt><span>prime_meridian_name :</span></dt><dd>Greenwich</dd><dt><span>geographic_crs_name :</span></dt><dd>NAD83(2011)</dd><dt><span>horizontal_datum_name :</span></dt><dd>NAD83 (National Spatial Reference System 2011)</dd><dt><span>projected_crs_name :</span></dt><dd>NAD83(2011) / UTM zone 18N</dd><dt><span>grid_mapping_name :</span></dt><dd>transverse_mercator</dd><dt><span>latitude_of_projection_origin :</span></dt><dd>0.0</dd><dt><span>longitude_of_central_meridian :</span></dt><dd>-75.0</dd><dt><span>false_easting :</span></dt><dd>500000.0</dd><dt><span>false_northing :</span></dt><dd>0.0</dd><dt><span>scale_factor_at_central_meridian :</span></dt><dd>0.9996</dd><dt><span>spatial_ref :</span></dt><dd>PROJCS[&quot;NAD83(2011) / UTM zone 18N&quot;,GEOGCS[&quot;NAD83(2011)&quot;,DATUM[&quot;NAD83_National_Spatial_Reference_System_2011&quot;,SPHEROID[&quot;GRS 1980&quot;,6378137,298.257222101,AUTHORITY[&quot;EPSG&quot;,&quot;7019&quot;]],AUTHORITY[&quot;EPSG&quot;,&quot;1116&quot;]],PRIMEM[&quot;Greenwich&quot;,0,AUTHORITY[&quot;EPSG&quot;,&quot;8901&quot;]],UNIT[&quot;degree&quot;,0.0174532925199433,AUTHORITY[&quot;EPSG&quot;,&quot;9122&quot;]],AUTHORITY[&quot;EPSG&quot;,&quot;6318&quot;]],PROJECTION[&quot;Transverse_Mercator&quot;],PARAMETER[&quot;latitude_of_origin&quot;,0],PARAMETER[&quot;central_meridian&quot;,-75],PARAMETER[&quot;scale_factor&quot;,0.9996],PARAMETER[&quot;false_easting&quot;,500000],PARAMETER[&quot;false_northing&quot;,0],UNIT[&quot;metre&quot;,1,AUTHORITY[&quot;EPSG&quot;,&quot;9001&quot;]],AXIS[&quot;Easting&quot;,EAST],AXIS[&quot;Northing&quot;,NORTH],AUTHORITY[&quot;EPSG&quot;,&quot;6347&quot;]]</dd><dt><span>GeoTransform :</span></dt><dd>394500.0 0.25 0.0 3871680.0 0.0 -0.25</dd></dl></div><div class='xr-var-data'><pre>array(0)</pre></div></li></ul></div></li><li class='xr-section-item'><input id='section-38462793-a21c-450d-8509-a248d157b65b' class='xr-section-summary-in' type='checkbox'  checked><label for='section-38462793-a21c-450d-8509-a248d157b65b' class='xr-section-summary' >Attributes: <span>(2)</span></label><div class='xr-section-inline-details'></div><div class='xr-section-details'><dl class='xr-attrs'><dt><span>scale_factor :</span></dt><dd>1.0</dd><dt><span>add_offset :</span></dt><dd>0.0</dd></dl></div></li></ul></div></div>"
      ],
      "text/plain": [
       "<xarray.DataArray (band: 3, y: 800, x: 1000)>\n",
       "[2400000 values with dtype=uint8]\n",
       "Coordinates:\n",
       "  * band         (band) int32 1 2 3\n",
       "  * x            (x) float64 3.945e+05 3.945e+05 ... 3.947e+05 3.947e+05\n",
       "  * y            (y) float64 3.872e+06 3.872e+06 ... 3.871e+06 3.871e+06\n",
       "    spatial_ref  int32 0\n",
       "Attributes:\n",
       "    scale_factor:  1.0\n",
       "    add_offset:    0.0"
      ]
     },
     "execution_count": 19,
     "metadata": {},
     "output_type": "execute_result"
    }
   ],
   "source": [
    "rds = rio.open_rasterio(out_dir+ortho_fname)\n",
    "rds"
   ]
  },
  {
   "cell_type": "markdown",
   "id": "9a449f94",
   "metadata": {},
   "source": [
    "### Build a composite image with grayscale, veg index, and elevation"
   ]
  },
  {
   "cell_type": "code",
   "execution_count": 20,
   "id": "b5744923",
   "metadata": {},
   "outputs": [],
   "source": [
    "rds[0,:,:]=im_gray\n",
    "rds[1,:,:]=GRRI_n\n",
    "rds[2,:,:]=eln"
   ]
  },
  {
   "cell_type": "markdown",
   "id": "e45a1735",
   "metadata": {},
   "source": [
    "### Esport as a .tiff file"
   ]
  },
  {
   "cell_type": "code",
   "execution_count": 21,
   "id": "f070a023",
   "metadata": {},
   "outputs": [],
   "source": [
    "composite_basename = 'composite'\n",
    "rds.rio.to_raster(out_dir+composite_basename+'.tif')"
   ]
  },
  {
   "cell_type": "markdown",
   "id": "7a2b14ef",
   "metadata": {},
   "source": [
    "### Use gdal to convert from tiff to jpeg"
   ]
  },
  {
   "cell_type": "code",
   "execution_count": 23,
   "id": "d46b4d47",
   "metadata": {},
   "outputs": [
    {
     "name": "stdout",
     "output_type": "stream",
     "text": [
      "gdal_translate -of JPEG -b 1 -b 2 -b 3 C:/crs/proj/2022_Composite_Experiment/Composite_Experiment/jpeg_composites/composite.tif C:/crs/proj/2022_Composite_Experiment/Composite_Experiment/jpeg_composites/composite.jpg\n",
      "Success\n"
     ]
    },
    {
     "data": {
      "text/plain": [
       "0"
      ]
     },
     "execution_count": 23,
     "metadata": {},
     "output_type": "execute_result"
    }
   ],
   "source": [
    "gdal_cmd = 'gdal_translate -of JPEG -b 1 -b 2 -b 3 {}.tif {}.jpg'.format(\n",
    "    out_dir+composite_basename, out_dir+composite_basename)\n",
    "print(gdal_cmd)\n",
    "if os.system(gdal_cmd)==0:\n",
    "    print('Success')\n",
    "os.system('gdalinfo '+out_dir+composite_basename+'.jpg')"
   ]
  }
 ],
 "metadata": {
  "kernelspec": {
   "display_name": "Python 3 (ipykernel)",
   "language": "python",
   "name": "python3"
  },
  "language_info": {
   "codemirror_mode": {
    "name": "ipython",
    "version": 3
   },
   "file_extension": ".py",
   "mimetype": "text/x-python",
   "name": "python",
   "nbconvert_exporter": "python",
   "pygments_lexer": "ipython3",
   "version": "3.9.7"
  }
 },
 "nbformat": 4,
 "nbformat_minor": 5
}
