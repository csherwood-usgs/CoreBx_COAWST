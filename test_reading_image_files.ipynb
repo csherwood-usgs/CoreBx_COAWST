{
 "cells": [
  {
   "cell_type": "code",
   "execution_count": 7,
   "id": "a7fe95da",
   "metadata": {},
   "outputs": [],
   "source": [
    "import numpy as np\n",
    "from PIL import Image"
   ]
  },
  {
   "cell_type": "code",
   "execution_count": 8,
   "id": "4dc27c5c",
   "metadata": {},
   "outputs": [],
   "source": [
    "Image?"
   ]
  },
  {
   "cell_type": "code",
   "execution_count": 9,
   "id": "4d3d5173",
   "metadata": {},
   "outputs": [],
   "source": [
    "def read_from_fs(path) -> np.ndarray:\n",
    "    \"\"\"Read a JPEG as an Numpy array.\n",
    "    \"\"\"\n",
    "    img = Image.open(path)\n",
    "    nb_bands = len(img.getbands())\n",
    "    if nb_bands not in (3, 4):\n",
    "        raise ValueError(f'The input image \"{path}\" has a {nb_bands} channel(s), only JPEG with 3 or 4 channels are supported.')\n",
    "    # Some JPEG files follow the CMYK model instead of RGB\n",
    "    if nb_bands == 4:\n",
    "        img = img.convert('RGB')\n",
    "    arr = np.array(img)\n",
    "    return arr"
   ]
  },
  {
   "cell_type": "code",
   "execution_count": 11,
   "id": "deef17e5",
   "metadata": {},
   "outputs": [],
   "source": [
    "tiff_path = 'C:/crs/proj/2022_Composite_Experiment/Composite_Experiment/tif_composites/small_ortho.tif'\n",
    "jpg_path = 'C:/crs/proj/2022_Composite_Experiment/Composite_Experiment/jpeg_composites/small_ortho.jpg'"
   ]
  },
  {
   "cell_type": "code",
   "execution_count": 12,
   "id": "c8a545a9",
   "metadata": {},
   "outputs": [],
   "source": [
    "jpg_array = read_from_fs(jpg_path)"
   ]
  }
 ],
 "metadata": {
  "kernelspec": {
   "display_name": "Python 3 (ipykernel)",
   "language": "python",
   "name": "python3"
  },
  "language_info": {
   "codemirror_mode": {
    "name": "ipython",
    "version": 3
   },
   "file_extension": ".py",
   "mimetype": "text/x-python",
   "name": "python",
   "nbconvert_exporter": "python",
   "pygments_lexer": "ipython3",
   "version": "3.9.7"
  }
 },
 "nbformat": 4,
 "nbformat_minor": 5
}
