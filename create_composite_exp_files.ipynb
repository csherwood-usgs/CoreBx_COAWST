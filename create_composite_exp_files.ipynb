{
 "cells": [
  {
   "cell_type": "code",
   "execution_count": 3,
   "id": "4029212f",
   "metadata": {},
   "outputs": [],
   "source": [
    "import os\n",
    "import numpy as np\n",
    "from osgeo import gdal\n",
    "# from osgeo import gdal_array\n",
    "import xarray as xr\n",
    "import rioxarray as rio\n",
    "import matplotlib.pyplot as plt"
   ]
  },
  {
   "cell_type": "code",
   "execution_count": 6,
   "id": "e49531e9",
   "metadata": {},
   "outputs": [
    {
     "name": "stdout",
     "output_type": "stream",
     "text": [
      "0.6666666666666666\n"
     ]
    }
   ],
   "source": [
    "print(2./3.)"
   ]
  },
  {
   "cell_type": "code",
   "execution_count": 7,
   "id": "40c387f4",
   "metadata": {},
   "outputs": [],
   "source": [
    "def normalized_uint8( a, nan_val = 0 ):\n",
    "    amin = np.nanmin(a)\n",
    "    amax = np.nanmax(a)\n",
    "    a_shape = np.shape(a)\n",
    "    ar = np.ravel(a)\n",
    "    ar[np.where(np.isnan)] = nan_val\n",
    "    ar = np.round(255*(ar-amin)/(amax-amin))\n",
    "    return np.reshape(ar,a_shape).astype('uint8')\n",
    "\n",
    "\n",
    "def veg_func(r, g, b, name='GRRI', nan_val=0):\n",
    "    '''\n",
    "    Excess Red (ExR)\n",
    "        Meyer, G. E., Hindman, T. W., and Laksmi, K. (1999). Machine vision\n",
    "        detection parameters for plant species identification. in, eds.\n",
    "        G. E. Meyer and J. A. DeShazer (Boston, MA), 327â€“335.\n",
    "        doi:10.1117/12.336896.\n",
    "    Excess Green (ExG)\n",
    "        Woebbecke, D.M.; Meyer, G.E.; Von Bargen, K.; Mortensen, D.A.\n",
    "        1995. Color Indices forWeed Identification Under Various Soil,\n",
    "        Residue, and Lighting Conditions. Trans. ASAE, 38, 259-269.\n",
    "    Excess Green minus R (ExGR)\n",
    "        Neto, J.C. 2004. A combined statistical-soft computing approach\n",
    "        for classification and mapping weed species in minimum -tillage\n",
    "        systems. Ph.D. Thesis, University of Nebraska, Lincoln, Lincoln,\n",
    "        NE, USA, August 2004.\n",
    "        \n",
    "    Thanks to Phil Wernette, USGS\n",
    "    '''\n",
    "    a_shape = np.shape(r)\n",
    "    if name == 'GRRI':\n",
    "        a = g / r\n",
    "    elif name == 'ExR':\n",
    "        a = 1.4*b - g\n",
    "    elif name == 'ExG':\n",
    "        a = 2.*g-r -b\n",
    "    elif name == 'ExGR':\n",
    "        a = (2.*g-r-b) - (1.4*b - g)   \n",
    "    else:\n",
    "        a = a*np.nan\n",
    "        print('Bad vlaue for name in veg_func')\n",
    "\n",
    "    amin = np.nanmin(a)\n",
    "    amax = np.nanmax(a)\n",
    "    ar = np.ravel(a)\n",
    "    ar[np.where(np.isnan)] = nan_val\n",
    "    ar = np.round(255*(ar-amin)/(amax-amin))\n",
    "    return np.reshape(ar,a_shape).astype('uint8')\n",
    "\n",
    "def twod_stats(im):\n",
    "    print('dtype:', im.dtype, 'shape', im.shape)\n",
    "    print('Number of nans:',np.sum(np.isnan(np.ravel(im))))\n",
    "    print('2.5% {}, 97.5% {}'.format(np.nanpercentile(im, 2.5), np.nanpercentile(im, 97.5)))\n",
    "    print('1% {}, 99% {}'.format(np.nanpercentile(im, 1), np.nanpercentile(im, 99)))\n",
    "    print('min {}, max {}'.format(np.nanmin(im), np.nanmax(im)))\n",
    "    print('median {}, mean {}'.format(np.nanpercentile(im, 50), np.nanmean(im)))"
   ]
  },
  {
   "cell_type": "code",
   "execution_count": 9,
   "id": "7ff0a7d6",
   "metadata": {},
   "outputs": [],
   "source": [
    "drive = 'D:'\n",
    "big_ortho_dir = drive+'/crs/proj/2019_DorianOBX/2021-07-27_FloSup_Products/ortho_cog'\n",
    "big_ortho_fname = '/20190830_Ocracoke_Inlet_to_Ophelia_Inlet_RGBavg_NAD83_2011_UTM18_0.25m_cog.tif'\n",
    "\n",
    "big_dem_dir = drive+'/crs/proj/2021_FloSupp_Release/Clipped_Final/'\n",
    "big_dem_fname = '/20190830_Ocracoke_Inlet_to_Ophelia_Inlet_NAD83_2011_NAVD88_UTM18N_1m_cog.tif'\n",
    "\n",
    "work_dir = drive+'/crs/proj/2022_NOPP/Composite_Experiment'\n",
    "gm_dir = '/gm'\n",
    "dem_dir = '/dem'\n",
    "slope_dir = '/slope'\n",
    "ortho_dir = '/ortho'\n",
    "grayscale_dir = '/grayscale'\n",
    "   \n",
    "#gdal_calc.py -R input.tif --R_band=1 -G input.tif --G_band=2 -B input.tif --B_band=3 --outfile=result.tif --calc=\"R*0.2989+G*0.5870+B*0.1140\""
   ]
  },
  {
   "cell_type": "code",
   "execution_count": 10,
   "id": "f10abdd6",
   "metadata": {},
   "outputs": [
    {
     "name": "stdout",
     "output_type": "stream",
     "text": [
      "D:/crs/proj/2022_NOPP/Composite_Experiment  exists.\n"
     ]
    }
   ],
   "source": [
    "# Make sure working folder exists\n",
    "try:\n",
    "    os.makedirs(work_dir)\n",
    "except FileExistsError:\n",
    "    # directory already exists\n",
    "    print(work_dir,' exists.')"
   ]
  },
  {
   "cell_type": "markdown",
   "id": "c056841c",
   "metadata": {},
   "source": [
    "### Establish bounding box for the site"
   ]
  },
  {
   "cell_type": "code",
   "execution_count": 12,
   "id": "031b0498",
   "metadata": {},
   "outputs": [
    {
     "name": "stdout",
     "output_type": "stream",
     "text": [
      "D:/crs/proj/2022_NOPP/Composite_Experiment/gm exists.\n",
      "Wrote D:/crs/proj/2022_NOPP/Composite_Experiment/gm/bbox_corners.csv\n"
     ]
    }
   ],
   "source": [
    "# define a box\n",
    "ulx=392750.\n",
    "uly=3873000.\n",
    "boxx = 3800.\n",
    "boxy = 2500.\n",
    "\n",
    "urx=ulx+boxx\n",
    "lrx=ulx+boxx\n",
    "llx=ulx\n",
    "\n",
    "ury=uly\n",
    "lry=uly-boxy\n",
    "lly=uly-boxy\n",
    "\n",
    "# make sure GlobalMapper folder exists\n",
    "out_dir = work_dir+gm_dir\n",
    "try:\n",
    "    os.makedirs(out_dir)\n",
    "    print('Created ',out_dir)\n",
    "except FileExistsError:\n",
    "    # directory already exists\n",
    "    print(out_dir,'exists.')\n",
    "\n",
    "# write corners of the box into a .csv file\n",
    "corners_file = '/bbox_corners.csv'\n",
    "f = open(out_dir+corners_file, 'w')\n",
    "f.write('{:.1f},{:.1f}\\n'.format(ulx,ury))\n",
    "f.write('{:.1f},{:.1f}\\n'.format(urx,ury))\n",
    "f.write('{:.1f},{:.1f}\\n'.format(lrx,lry))\n",
    "f.write('{:.1f},{:.1f}\\n'.format(llx,lly))\n",
    "f.write('{:.1f},{:.1f}\\n'.format(ulx,ury))\n",
    "f.close()\n",
    "print('Wrote', out_dir+corners_file)"
   ]
  },
  {
   "cell_type": "markdown",
   "id": "28d6d9c5",
   "metadata": {},
   "source": [
    "### Cut out the DEM for that site\n",
    "...and make grid finer, from 1 m to 0.25 m\n"
   ]
  },
  {
   "cell_type": "code",
   "execution_count": 13,
   "id": "2574526a",
   "metadata": {},
   "outputs": [
    {
     "name": "stdout",
     "output_type": "stream",
     "text": [
      "D:/crs/proj/2022_NOPP/Composite_Experiment/dem exists.\n",
      "gdal_translate -projwin 392750.0 3873000.0 396550.0 3870500.0 -b 1 -tr 0.25 0.25 -r nearest -of JPEG  D:/crs/proj/2021_FloSupp_Release/Clipped_Final//20190830_Ocracoke_Inlet_to_Ophelia_Inlet_NAD83_2011_NAVD88_UTM18N_1m_cog.tif D:/crs/proj/2022_NOPP/Composite_Experiment/dem/dem25_nearest.jpg\n",
      "Success\n"
     ]
    }
   ],
   "source": [
    "in_file = big_dem_dir+big_dem_fname\n",
    "out_dir = work_dir+dem_dir\n",
    "dem_file = '/dem25_nearest.jpg'\n",
    "out_file = out_dir+dem_file\n",
    "\n",
    "try:\n",
    "    os.makedirs(out_dir)\n",
    "    print('Created ',out_dir)\n",
    "except FileExistsError:\n",
    "    # directory already exists\n",
    "    print(out_dir,'exists.')\n",
    "\n",
    "gdal_cmd = 'gdal_translate -projwin {} {} {} {} -b 1 -tr 0.25 0.25 -r nearest -of JPEG  {} {}'.format(\n",
    "    ulx, uly, lrx, lry, in_file, out_file)\n",
    "print(gdal_cmd)\n",
    "\n",
    "if os.system(gdal_cmd) == 0:\n",
    "    print('Success')\n",
    "    os.system('gdalinfo {}'.format(out_file))"
   ]
  },
  {
   "cell_type": "markdown",
   "id": "da3c780e",
   "metadata": {},
   "source": [
    "#### do it again, but with cubic spline interpolation (much slower)"
   ]
  },
  {
   "cell_type": "code",
   "execution_count": 14,
   "id": "47aee414",
   "metadata": {},
   "outputs": [
    {
     "name": "stdout",
     "output_type": "stream",
     "text": [
      "gdal_translate -projwin 392750.0 3873000.0 396550.0 3870500.0 -b 1 -tr 0.25 0.25 -r cubicspline -of JPEG  D:/crs/proj/2021_FloSupp_Release/Clipped_Final//20190830_Ocracoke_Inlet_to_Ophelia_Inlet_NAD83_2011_NAVD88_UTM18N_1m_cog.tif D:/crs/proj/2022_NOPP/Composite_Experiment/dem/dem25_cubic.jpg\n",
      "Success\n"
     ]
    }
   ],
   "source": [
    "dem_file = '/dem25_cubic.jpg'\n",
    "out_file = out_dir+dem_file\n",
    "gdal_cmd = 'gdal_translate -projwin {} {} {} {} -b 1 -tr 0.25 0.25 -r cubicspline -of JPEG  {} {}'.format(\n",
    "    ulx, uly, lrx, lry, in_file, out_file)\n",
    "print(gdal_cmd)\n",
    "\n",
    "if os.system(gdal_cmd) == 0:\n",
    "    print('Success')\n",
    "    os.system('gdalinfo {}'.format(out_file))"
   ]
  },
  {
   "cell_type": "markdown",
   "id": "cf294327",
   "metadata": {},
   "source": [
    "### Cut out the ortho for that site\n",
    "Keep as a geotiff for now."
   ]
  },
  {
   "cell_type": "code",
   "execution_count": 15,
   "id": "952e828c",
   "metadata": {},
   "outputs": [
    {
     "name": "stdout",
     "output_type": "stream",
     "text": [
      "D:/crs/proj/2022_NOPP/Composite_Experiment/ortho exists.\n",
      "gdal_translate -projwin 392750.0 3873000.0 396550.0 3870500.0 -b 1 -b 2 -b 3 -of GTiff D:/crs/proj/2019_DorianOBX/2021-07-27_FloSup_Products/ortho_cog/20190830_Ocracoke_Inlet_to_Ophelia_Inlet_RGBavg_NAD83_2011_UTM18_0.25m_cog.tif D:/crs/proj/2022_NOPP/Composite_Experiment/ortho/ortho.tif\n",
      "Success\n"
     ]
    }
   ],
   "source": [
    "infile = big_ortho_dir+big_ortho_fname\n",
    "out_dir = work_dir+ortho_dir\n",
    "ortho_file = '/ortho.tif'\n",
    "out_file = out_dir+ortho_file\n",
    "\n",
    "try:\n",
    "    os.makedirs(out_dir)\n",
    "    print('Created ',out_dir)\n",
    "except FileExistsError:\n",
    "    # directory already exists\n",
    "    print(out_dir,'exists.')\n",
    "\n",
    "gdal_cmd = 'gdal_translate -projwin {} {} {} {} -b 1 -b 2 -b 3 -of GTiff {} {}'.format(ulx, uly, lrx, lry, infile, out_file)\n",
    "print(gdal_cmd)\n",
    "if os.system(gdal_cmd) == 0:\n",
    "    print('Success')\n",
    "    os.system('gdalinfo {}'.format(out_file))"
   ]
  },
  {
   "cell_type": "markdown",
   "id": "2394a9f6",
   "metadata": {},
   "source": [
    "### Read in the ortho for other calcs using rioxarray"
   ]
  },
  {
   "cell_type": "code",
   "execution_count": 16,
   "id": "aa9130ca",
   "metadata": {},
   "outputs": [
    {
     "data": {
      "text/html": [
       "<div><svg style=\"position: absolute; width: 0; height: 0; overflow: hidden\">\n",
       "<defs>\n",
       "<symbol id=\"icon-database\" viewBox=\"0 0 32 32\">\n",
       "<path d=\"M16 0c-8.837 0-16 2.239-16 5v4c0 2.761 7.163 5 16 5s16-2.239 16-5v-4c0-2.761-7.163-5-16-5z\"></path>\n",
       "<path d=\"M16 17c-8.837 0-16-2.239-16-5v6c0 2.761 7.163 5 16 5s16-2.239 16-5v-6c0 2.761-7.163 5-16 5z\"></path>\n",
       "<path d=\"M16 26c-8.837 0-16-2.239-16-5v6c0 2.761 7.163 5 16 5s16-2.239 16-5v-6c0 2.761-7.163 5-16 5z\"></path>\n",
       "</symbol>\n",
       "<symbol id=\"icon-file-text2\" viewBox=\"0 0 32 32\">\n",
       "<path d=\"M28.681 7.159c-0.694-0.947-1.662-2.053-2.724-3.116s-2.169-2.030-3.116-2.724c-1.612-1.182-2.393-1.319-2.841-1.319h-15.5c-1.378 0-2.5 1.121-2.5 2.5v27c0 1.378 1.122 2.5 2.5 2.5h23c1.378 0 2.5-1.122 2.5-2.5v-19.5c0-0.448-0.137-1.23-1.319-2.841zM24.543 5.457c0.959 0.959 1.712 1.825 2.268 2.543h-4.811v-4.811c0.718 0.556 1.584 1.309 2.543 2.268zM28 29.5c0 0.271-0.229 0.5-0.5 0.5h-23c-0.271 0-0.5-0.229-0.5-0.5v-27c0-0.271 0.229-0.5 0.5-0.5 0 0 15.499-0 15.5 0v7c0 0.552 0.448 1 1 1h7v19.5z\"></path>\n",
       "<path d=\"M23 26h-14c-0.552 0-1-0.448-1-1s0.448-1 1-1h14c0.552 0 1 0.448 1 1s-0.448 1-1 1z\"></path>\n",
       "<path d=\"M23 22h-14c-0.552 0-1-0.448-1-1s0.448-1 1-1h14c0.552 0 1 0.448 1 1s-0.448 1-1 1z\"></path>\n",
       "<path d=\"M23 18h-14c-0.552 0-1-0.448-1-1s0.448-1 1-1h14c0.552 0 1 0.448 1 1s-0.448 1-1 1z\"></path>\n",
       "</symbol>\n",
       "</defs>\n",
       "</svg>\n",
       "<style>/* CSS stylesheet for displaying xarray objects in jupyterlab.\n",
       " *\n",
       " */\n",
       "\n",
       ":root {\n",
       "  --xr-font-color0: var(--jp-content-font-color0, rgba(0, 0, 0, 1));\n",
       "  --xr-font-color2: var(--jp-content-font-color2, rgba(0, 0, 0, 0.54));\n",
       "  --xr-font-color3: var(--jp-content-font-color3, rgba(0, 0, 0, 0.38));\n",
       "  --xr-border-color: var(--jp-border-color2, #e0e0e0);\n",
       "  --xr-disabled-color: var(--jp-layout-color3, #bdbdbd);\n",
       "  --xr-background-color: var(--jp-layout-color0, white);\n",
       "  --xr-background-color-row-even: var(--jp-layout-color1, white);\n",
       "  --xr-background-color-row-odd: var(--jp-layout-color2, #eeeeee);\n",
       "}\n",
       "\n",
       "html[theme=dark],\n",
       "body.vscode-dark {\n",
       "  --xr-font-color0: rgba(255, 255, 255, 1);\n",
       "  --xr-font-color2: rgba(255, 255, 255, 0.54);\n",
       "  --xr-font-color3: rgba(255, 255, 255, 0.38);\n",
       "  --xr-border-color: #1F1F1F;\n",
       "  --xr-disabled-color: #515151;\n",
       "  --xr-background-color: #111111;\n",
       "  --xr-background-color-row-even: #111111;\n",
       "  --xr-background-color-row-odd: #313131;\n",
       "}\n",
       "\n",
       ".xr-wrap {\n",
       "  display: block !important;\n",
       "  min-width: 300px;\n",
       "  max-width: 700px;\n",
       "}\n",
       "\n",
       ".xr-text-repr-fallback {\n",
       "  /* fallback to plain text repr when CSS is not injected (untrusted notebook) */\n",
       "  display: none;\n",
       "}\n",
       "\n",
       ".xr-header {\n",
       "  padding-top: 6px;\n",
       "  padding-bottom: 6px;\n",
       "  margin-bottom: 4px;\n",
       "  border-bottom: solid 1px var(--xr-border-color);\n",
       "}\n",
       "\n",
       ".xr-header > div,\n",
       ".xr-header > ul {\n",
       "  display: inline;\n",
       "  margin-top: 0;\n",
       "  margin-bottom: 0;\n",
       "}\n",
       "\n",
       ".xr-obj-type,\n",
       ".xr-array-name {\n",
       "  margin-left: 2px;\n",
       "  margin-right: 10px;\n",
       "}\n",
       "\n",
       ".xr-obj-type {\n",
       "  color: var(--xr-font-color2);\n",
       "}\n",
       "\n",
       ".xr-sections {\n",
       "  padding-left: 0 !important;\n",
       "  display: grid;\n",
       "  grid-template-columns: 150px auto auto 1fr 20px 20px;\n",
       "}\n",
       "\n",
       ".xr-section-item {\n",
       "  display: contents;\n",
       "}\n",
       "\n",
       ".xr-section-item input {\n",
       "  display: none;\n",
       "}\n",
       "\n",
       ".xr-section-item input + label {\n",
       "  color: var(--xr-disabled-color);\n",
       "}\n",
       "\n",
       ".xr-section-item input:enabled + label {\n",
       "  cursor: pointer;\n",
       "  color: var(--xr-font-color2);\n",
       "}\n",
       "\n",
       ".xr-section-item input:enabled + label:hover {\n",
       "  color: var(--xr-font-color0);\n",
       "}\n",
       "\n",
       ".xr-section-summary {\n",
       "  grid-column: 1;\n",
       "  color: var(--xr-font-color2);\n",
       "  font-weight: 500;\n",
       "}\n",
       "\n",
       ".xr-section-summary > span {\n",
       "  display: inline-block;\n",
       "  padding-left: 0.5em;\n",
       "}\n",
       "\n",
       ".xr-section-summary-in:disabled + label {\n",
       "  color: var(--xr-font-color2);\n",
       "}\n",
       "\n",
       ".xr-section-summary-in + label:before {\n",
       "  display: inline-block;\n",
       "  content: '►';\n",
       "  font-size: 11px;\n",
       "  width: 15px;\n",
       "  text-align: center;\n",
       "}\n",
       "\n",
       ".xr-section-summary-in:disabled + label:before {\n",
       "  color: var(--xr-disabled-color);\n",
       "}\n",
       "\n",
       ".xr-section-summary-in:checked + label:before {\n",
       "  content: '▼';\n",
       "}\n",
       "\n",
       ".xr-section-summary-in:checked + label > span {\n",
       "  display: none;\n",
       "}\n",
       "\n",
       ".xr-section-summary,\n",
       ".xr-section-inline-details {\n",
       "  padding-top: 4px;\n",
       "  padding-bottom: 4px;\n",
       "}\n",
       "\n",
       ".xr-section-inline-details {\n",
       "  grid-column: 2 / -1;\n",
       "}\n",
       "\n",
       ".xr-section-details {\n",
       "  display: none;\n",
       "  grid-column: 1 / -1;\n",
       "  margin-bottom: 5px;\n",
       "}\n",
       "\n",
       ".xr-section-summary-in:checked ~ .xr-section-details {\n",
       "  display: contents;\n",
       "}\n",
       "\n",
       ".xr-array-wrap {\n",
       "  grid-column: 1 / -1;\n",
       "  display: grid;\n",
       "  grid-template-columns: 20px auto;\n",
       "}\n",
       "\n",
       ".xr-array-wrap > label {\n",
       "  grid-column: 1;\n",
       "  vertical-align: top;\n",
       "}\n",
       "\n",
       ".xr-preview {\n",
       "  color: var(--xr-font-color3);\n",
       "}\n",
       "\n",
       ".xr-array-preview,\n",
       ".xr-array-data {\n",
       "  padding: 0 5px !important;\n",
       "  grid-column: 2;\n",
       "}\n",
       "\n",
       ".xr-array-data,\n",
       ".xr-array-in:checked ~ .xr-array-preview {\n",
       "  display: none;\n",
       "}\n",
       "\n",
       ".xr-array-in:checked ~ .xr-array-data,\n",
       ".xr-array-preview {\n",
       "  display: inline-block;\n",
       "}\n",
       "\n",
       ".xr-dim-list {\n",
       "  display: inline-block !important;\n",
       "  list-style: none;\n",
       "  padding: 0 !important;\n",
       "  margin: 0;\n",
       "}\n",
       "\n",
       ".xr-dim-list li {\n",
       "  display: inline-block;\n",
       "  padding: 0;\n",
       "  margin: 0;\n",
       "}\n",
       "\n",
       ".xr-dim-list:before {\n",
       "  content: '(';\n",
       "}\n",
       "\n",
       ".xr-dim-list:after {\n",
       "  content: ')';\n",
       "}\n",
       "\n",
       ".xr-dim-list li:not(:last-child):after {\n",
       "  content: ',';\n",
       "  padding-right: 5px;\n",
       "}\n",
       "\n",
       ".xr-has-index {\n",
       "  font-weight: bold;\n",
       "}\n",
       "\n",
       ".xr-var-list,\n",
       ".xr-var-item {\n",
       "  display: contents;\n",
       "}\n",
       "\n",
       ".xr-var-item > div,\n",
       ".xr-var-item label,\n",
       ".xr-var-item > .xr-var-name span {\n",
       "  background-color: var(--xr-background-color-row-even);\n",
       "  margin-bottom: 0;\n",
       "}\n",
       "\n",
       ".xr-var-item > .xr-var-name:hover span {\n",
       "  padding-right: 5px;\n",
       "}\n",
       "\n",
       ".xr-var-list > li:nth-child(odd) > div,\n",
       ".xr-var-list > li:nth-child(odd) > label,\n",
       ".xr-var-list > li:nth-child(odd) > .xr-var-name span {\n",
       "  background-color: var(--xr-background-color-row-odd);\n",
       "}\n",
       "\n",
       ".xr-var-name {\n",
       "  grid-column: 1;\n",
       "}\n",
       "\n",
       ".xr-var-dims {\n",
       "  grid-column: 2;\n",
       "}\n",
       "\n",
       ".xr-var-dtype {\n",
       "  grid-column: 3;\n",
       "  text-align: right;\n",
       "  color: var(--xr-font-color2);\n",
       "}\n",
       "\n",
       ".xr-var-preview {\n",
       "  grid-column: 4;\n",
       "}\n",
       "\n",
       ".xr-var-name,\n",
       ".xr-var-dims,\n",
       ".xr-var-dtype,\n",
       ".xr-preview,\n",
       ".xr-attrs dt {\n",
       "  white-space: nowrap;\n",
       "  overflow: hidden;\n",
       "  text-overflow: ellipsis;\n",
       "  padding-right: 10px;\n",
       "}\n",
       "\n",
       ".xr-var-name:hover,\n",
       ".xr-var-dims:hover,\n",
       ".xr-var-dtype:hover,\n",
       ".xr-attrs dt:hover {\n",
       "  overflow: visible;\n",
       "  width: auto;\n",
       "  z-index: 1;\n",
       "}\n",
       "\n",
       ".xr-var-attrs,\n",
       ".xr-var-data {\n",
       "  display: none;\n",
       "  background-color: var(--xr-background-color) !important;\n",
       "  padding-bottom: 5px !important;\n",
       "}\n",
       "\n",
       ".xr-var-attrs-in:checked ~ .xr-var-attrs,\n",
       ".xr-var-data-in:checked ~ .xr-var-data {\n",
       "  display: block;\n",
       "}\n",
       "\n",
       ".xr-var-data > table {\n",
       "  float: right;\n",
       "}\n",
       "\n",
       ".xr-var-name span,\n",
       ".xr-var-data,\n",
       ".xr-attrs {\n",
       "  padding-left: 25px !important;\n",
       "}\n",
       "\n",
       ".xr-attrs,\n",
       ".xr-var-attrs,\n",
       ".xr-var-data {\n",
       "  grid-column: 1 / -1;\n",
       "}\n",
       "\n",
       "dl.xr-attrs {\n",
       "  padding: 0;\n",
       "  margin: 0;\n",
       "  display: grid;\n",
       "  grid-template-columns: 125px auto;\n",
       "}\n",
       "\n",
       ".xr-attrs dt,\n",
       ".xr-attrs dd {\n",
       "  padding: 0;\n",
       "  margin: 0;\n",
       "  float: left;\n",
       "  padding-right: 10px;\n",
       "  width: auto;\n",
       "}\n",
       "\n",
       ".xr-attrs dt {\n",
       "  font-weight: normal;\n",
       "  grid-column: 1;\n",
       "}\n",
       "\n",
       ".xr-attrs dt:hover span {\n",
       "  display: inline-block;\n",
       "  background: var(--xr-background-color);\n",
       "  padding-right: 10px;\n",
       "}\n",
       "\n",
       ".xr-attrs dd {\n",
       "  grid-column: 2;\n",
       "  white-space: pre-wrap;\n",
       "  word-break: break-all;\n",
       "}\n",
       "\n",
       ".xr-icon-database,\n",
       ".xr-icon-file-text2 {\n",
       "  display: inline-block;\n",
       "  vertical-align: middle;\n",
       "  width: 1em;\n",
       "  height: 1.5em !important;\n",
       "  stroke-width: 0;\n",
       "  stroke: currentColor;\n",
       "  fill: currentColor;\n",
       "}\n",
       "</style><pre class='xr-text-repr-fallback'>&lt;xarray.DataArray (band: 3, y: 10000, x: 15200)&gt;\n",
       "[456000000 values with dtype=uint8]\n",
       "Coordinates:\n",
       "  * band         (band) int32 1 2 3\n",
       "  * x            (x) float64 3.928e+05 3.928e+05 ... 3.965e+05 3.965e+05\n",
       "  * y            (y) float64 3.873e+06 3.873e+06 ... 3.871e+06 3.871e+06\n",
       "    spatial_ref  int32 0\n",
       "Attributes:\n",
       "    scale_factor:  1.0\n",
       "    add_offset:    0.0</pre><div class='xr-wrap' style='display:none'><div class='xr-header'><div class='xr-obj-type'>xarray.DataArray</div><div class='xr-array-name'></div><ul class='xr-dim-list'><li><span class='xr-has-index'>band</span>: 3</li><li><span class='xr-has-index'>y</span>: 10000</li><li><span class='xr-has-index'>x</span>: 15200</li></ul></div><ul class='xr-sections'><li class='xr-section-item'><div class='xr-array-wrap'><input id='section-c2304a83-1cdb-4aec-93f5-f3123501609c' class='xr-array-in' type='checkbox' checked><label for='section-c2304a83-1cdb-4aec-93f5-f3123501609c' title='Show/hide data repr'><svg class='icon xr-icon-database'><use xlink:href='#icon-database'></use></svg></label><div class='xr-array-preview xr-preview'><span>...</span></div><div class='xr-array-data'><pre>[456000000 values with dtype=uint8]</pre></div></div></li><li class='xr-section-item'><input id='section-0e65ca41-579b-4f1a-9ea3-215e1d4cd165' class='xr-section-summary-in' type='checkbox'  checked><label for='section-0e65ca41-579b-4f1a-9ea3-215e1d4cd165' class='xr-section-summary' >Coordinates: <span>(4)</span></label><div class='xr-section-inline-details'></div><div class='xr-section-details'><ul class='xr-var-list'><li class='xr-var-item'><div class='xr-var-name'><span class='xr-has-index'>band</span></div><div class='xr-var-dims'>(band)</div><div class='xr-var-dtype'>int32</div><div class='xr-var-preview xr-preview'>1 2 3</div><input id='attrs-a0ae75f5-6bd6-48d8-b601-3803ac4e6017' class='xr-var-attrs-in' type='checkbox' disabled><label for='attrs-a0ae75f5-6bd6-48d8-b601-3803ac4e6017' title='Show/Hide attributes'><svg class='icon xr-icon-file-text2'><use xlink:href='#icon-file-text2'></use></svg></label><input id='data-ca3a98c7-ad6f-484b-b614-c1c5d674130c' class='xr-var-data-in' type='checkbox'><label for='data-ca3a98c7-ad6f-484b-b614-c1c5d674130c' title='Show/Hide data repr'><svg class='icon xr-icon-database'><use xlink:href='#icon-database'></use></svg></label><div class='xr-var-attrs'><dl class='xr-attrs'></dl></div><div class='xr-var-data'><pre>array([1, 2, 3])</pre></div></li><li class='xr-var-item'><div class='xr-var-name'><span class='xr-has-index'>x</span></div><div class='xr-var-dims'>(x)</div><div class='xr-var-dtype'>float64</div><div class='xr-var-preview xr-preview'>3.928e+05 3.928e+05 ... 3.965e+05</div><input id='attrs-2ed4a9b7-1472-4d91-9bdb-4e27204b738f' class='xr-var-attrs-in' type='checkbox' disabled><label for='attrs-2ed4a9b7-1472-4d91-9bdb-4e27204b738f' title='Show/Hide attributes'><svg class='icon xr-icon-file-text2'><use xlink:href='#icon-file-text2'></use></svg></label><input id='data-00faccfb-1cdb-4e54-a61f-0bd93e71ed39' class='xr-var-data-in' type='checkbox'><label for='data-00faccfb-1cdb-4e54-a61f-0bd93e71ed39' title='Show/Hide data repr'><svg class='icon xr-icon-database'><use xlink:href='#icon-database'></use></svg></label><div class='xr-var-attrs'><dl class='xr-attrs'></dl></div><div class='xr-var-data'><pre>array([392750.125, 392750.375, 392750.625, ..., 396549.375, 396549.625,\n",
       "       396549.875])</pre></div></li><li class='xr-var-item'><div class='xr-var-name'><span class='xr-has-index'>y</span></div><div class='xr-var-dims'>(y)</div><div class='xr-var-dtype'>float64</div><div class='xr-var-preview xr-preview'>3.873e+06 3.873e+06 ... 3.871e+06</div><input id='attrs-678814fe-72d2-4bed-9b8d-a0d9b2780cdb' class='xr-var-attrs-in' type='checkbox' disabled><label for='attrs-678814fe-72d2-4bed-9b8d-a0d9b2780cdb' title='Show/Hide attributes'><svg class='icon xr-icon-file-text2'><use xlink:href='#icon-file-text2'></use></svg></label><input id='data-2f148581-305e-4e0e-a6b7-1be8dfbc2f3d' class='xr-var-data-in' type='checkbox'><label for='data-2f148581-305e-4e0e-a6b7-1be8dfbc2f3d' title='Show/Hide data repr'><svg class='icon xr-icon-database'><use xlink:href='#icon-database'></use></svg></label><div class='xr-var-attrs'><dl class='xr-attrs'></dl></div><div class='xr-var-data'><pre>array([3872999.875, 3872999.625, 3872999.375, ..., 3870500.625, 3870500.375,\n",
       "       3870500.125])</pre></div></li><li class='xr-var-item'><div class='xr-var-name'><span>spatial_ref</span></div><div class='xr-var-dims'>()</div><div class='xr-var-dtype'>int32</div><div class='xr-var-preview xr-preview'>0</div><input id='attrs-5187d609-75d9-4b14-9a1e-e482de04aeb1' class='xr-var-attrs-in' type='checkbox' ><label for='attrs-5187d609-75d9-4b14-9a1e-e482de04aeb1' title='Show/Hide attributes'><svg class='icon xr-icon-file-text2'><use xlink:href='#icon-file-text2'></use></svg></label><input id='data-7c73fcef-88c9-47d7-8230-8dd8e515272a' class='xr-var-data-in' type='checkbox'><label for='data-7c73fcef-88c9-47d7-8230-8dd8e515272a' title='Show/Hide data repr'><svg class='icon xr-icon-database'><use xlink:href='#icon-database'></use></svg></label><div class='xr-var-attrs'><dl class='xr-attrs'><dt><span>crs_wkt :</span></dt><dd>PROJCS[&quot;NAD83(2011) / UTM zone 18N&quot;,GEOGCS[&quot;NAD83(2011)&quot;,DATUM[&quot;NAD83_National_Spatial_Reference_System_2011&quot;,SPHEROID[&quot;GRS 1980&quot;,6378137,298.257222101,AUTHORITY[&quot;EPSG&quot;,&quot;7019&quot;]],AUTHORITY[&quot;EPSG&quot;,&quot;1116&quot;]],PRIMEM[&quot;Greenwich&quot;,0,AUTHORITY[&quot;EPSG&quot;,&quot;8901&quot;]],UNIT[&quot;degree&quot;,0.0174532925199433,AUTHORITY[&quot;EPSG&quot;,&quot;9122&quot;]],AUTHORITY[&quot;EPSG&quot;,&quot;6318&quot;]],PROJECTION[&quot;Transverse_Mercator&quot;],PARAMETER[&quot;latitude_of_origin&quot;,0],PARAMETER[&quot;central_meridian&quot;,-75],PARAMETER[&quot;scale_factor&quot;,0.9996],PARAMETER[&quot;false_easting&quot;,500000],PARAMETER[&quot;false_northing&quot;,0],UNIT[&quot;metre&quot;,1,AUTHORITY[&quot;EPSG&quot;,&quot;9001&quot;]],AXIS[&quot;Easting&quot;,EAST],AXIS[&quot;Northing&quot;,NORTH],AUTHORITY[&quot;EPSG&quot;,&quot;6347&quot;]]</dd><dt><span>semi_major_axis :</span></dt><dd>6378137.0</dd><dt><span>semi_minor_axis :</span></dt><dd>6356752.314140356</dd><dt><span>inverse_flattening :</span></dt><dd>298.257222101</dd><dt><span>reference_ellipsoid_name :</span></dt><dd>GRS 1980</dd><dt><span>longitude_of_prime_meridian :</span></dt><dd>0.0</dd><dt><span>prime_meridian_name :</span></dt><dd>Greenwich</dd><dt><span>geographic_crs_name :</span></dt><dd>NAD83(2011)</dd><dt><span>horizontal_datum_name :</span></dt><dd>NAD83 (National Spatial Reference System 2011)</dd><dt><span>projected_crs_name :</span></dt><dd>NAD83(2011) / UTM zone 18N</dd><dt><span>grid_mapping_name :</span></dt><dd>transverse_mercator</dd><dt><span>latitude_of_projection_origin :</span></dt><dd>0.0</dd><dt><span>longitude_of_central_meridian :</span></dt><dd>-75.0</dd><dt><span>false_easting :</span></dt><dd>500000.0</dd><dt><span>false_northing :</span></dt><dd>0.0</dd><dt><span>scale_factor_at_central_meridian :</span></dt><dd>0.9996</dd><dt><span>spatial_ref :</span></dt><dd>PROJCS[&quot;NAD83(2011) / UTM zone 18N&quot;,GEOGCS[&quot;NAD83(2011)&quot;,DATUM[&quot;NAD83_National_Spatial_Reference_System_2011&quot;,SPHEROID[&quot;GRS 1980&quot;,6378137,298.257222101,AUTHORITY[&quot;EPSG&quot;,&quot;7019&quot;]],AUTHORITY[&quot;EPSG&quot;,&quot;1116&quot;]],PRIMEM[&quot;Greenwich&quot;,0,AUTHORITY[&quot;EPSG&quot;,&quot;8901&quot;]],UNIT[&quot;degree&quot;,0.0174532925199433,AUTHORITY[&quot;EPSG&quot;,&quot;9122&quot;]],AUTHORITY[&quot;EPSG&quot;,&quot;6318&quot;]],PROJECTION[&quot;Transverse_Mercator&quot;],PARAMETER[&quot;latitude_of_origin&quot;,0],PARAMETER[&quot;central_meridian&quot;,-75],PARAMETER[&quot;scale_factor&quot;,0.9996],PARAMETER[&quot;false_easting&quot;,500000],PARAMETER[&quot;false_northing&quot;,0],UNIT[&quot;metre&quot;,1,AUTHORITY[&quot;EPSG&quot;,&quot;9001&quot;]],AXIS[&quot;Easting&quot;,EAST],AXIS[&quot;Northing&quot;,NORTH],AUTHORITY[&quot;EPSG&quot;,&quot;6347&quot;]]</dd><dt><span>GeoTransform :</span></dt><dd>392750.0 0.25 0.0 3873000.0 0.0 -0.25</dd></dl></div><div class='xr-var-data'><pre>array(0)</pre></div></li></ul></div></li><li class='xr-section-item'><input id='section-41e36c2e-709b-41d4-a844-265d1480cabd' class='xr-section-summary-in' type='checkbox'  checked><label for='section-41e36c2e-709b-41d4-a844-265d1480cabd' class='xr-section-summary' >Attributes: <span>(2)</span></label><div class='xr-section-inline-details'></div><div class='xr-section-details'><dl class='xr-attrs'><dt><span>scale_factor :</span></dt><dd>1.0</dd><dt><span>add_offset :</span></dt><dd>0.0</dd></dl></div></li></ul></div></div>"
      ],
      "text/plain": [
       "<xarray.DataArray (band: 3, y: 10000, x: 15200)>\n",
       "[456000000 values with dtype=uint8]\n",
       "Coordinates:\n",
       "  * band         (band) int32 1 2 3\n",
       "  * x            (x) float64 3.928e+05 3.928e+05 ... 3.965e+05 3.965e+05\n",
       "  * y            (y) float64 3.873e+06 3.873e+06 ... 3.871e+06 3.871e+06\n",
       "    spatial_ref  int32 0\n",
       "Attributes:\n",
       "    scale_factor:  1.0\n",
       "    add_offset:    0.0"
      ]
     },
     "execution_count": 16,
     "metadata": {},
     "output_type": "execute_result"
    }
   ],
   "source": [
    "in_file = work_dir+ortho_dir+ortho_file\n",
    "ds_ortho = rio.open_rasterio(in_file)\n",
    "ds_ortho"
   ]
  },
  {
   "cell_type": "code",
   "execution_count": 17,
   "id": "445f73ca",
   "metadata": {},
   "outputs": [],
   "source": [
    "# pull bands out as arrays\n",
    "r = np.array(ds_ortho[0].values)\n",
    "g = np.array(ds_ortho[1].values)\n",
    "b = np.array(ds_ortho[2].values)"
   ]
  },
  {
   "cell_type": "markdown",
   "id": "41a518e2",
   "metadata": {},
   "source": [
    "### Make a grayscale ortho"
   ]
  },
  {
   "cell_type": "code",
   "execution_count": 29,
   "id": "ca2b3b94",
   "metadata": {},
   "outputs": [
    {
     "data": {
      "text/plain": [
       "(array([9.994000e+03, 1.419910e+05, 3.949590e+05, 9.096720e+05,\n",
       "        2.327239e+06, 4.892883e+06, 6.661860e+06, 7.354754e+06,\n",
       "        7.257822e+06, 6.136098e+06, 4.699273e+06, 3.543763e+06,\n",
       "        2.575930e+06, 2.063523e+06, 1.830671e+06, 1.680294e+06,\n",
       "        1.336190e+06, 9.838220e+05, 4.726700e+05, 1.427410e+05,\n",
       "        5.959600e+04, 1.766700e+04, 6.580000e+03, 6.506000e+03,\n",
       "        2.220000e+03]),\n",
       " array([ 12.  ,  20.96,  29.92,  38.88,  47.84,  56.8 ,  65.76,  74.72,\n",
       "         83.68,  92.64, 101.6 , 110.56, 119.52, 128.48, 137.44, 146.4 ,\n",
       "        155.36, 164.32, 173.28, 182.24, 191.2 , 200.16, 209.12, 218.08,\n",
       "        227.04, 236.  ]),\n",
       " <BarContainer object of 25 artists>)"
      ]
     },
     "execution_count": 29,
     "metadata": {},
     "output_type": "execute_result"
    },
    {
     "data": {
      "image/png": "[encoded data removed]",
      "text/plain": [
       "<Figure size 432x288 with 2 Axes>"
      ]
     },
     "metadata": {
      "needs_background": "light"
     },
     "output_type": "display_data"
    }
   ],
   "source": [
    "gray = np.round((0.2989*r + 0.5870*g + 0.1140*b)).astype('uint8')\n",
    "ax1=plt.subplot(1,2,1)\n",
    "ax1.imshow(gray, cmap='gray')\n",
    "ax2=plt.subplot(1,2,2)\n",
    "data = np.ravel(gray)\n",
    "data = data[np.where(data>0)]\n",
    "ax2.hist(data, bins=25, orientation=\"horizontal\")"
   ]
  },
  {
   "cell_type": "markdown",
   "id": "1d12f808",
   "metadata": {},
   "source": [
    "### Make three different veg indices"
   ]
  },
  {
   "cell_type": "code",
   "execution_count": 34,
   "id": "a2914836",
   "metadata": {},
   "outputs": [
    {
     "name": "stderr",
     "output_type": "stream",
     "text": [
      "C:\\Users\\csherwood\\AppData\\Local\\Temp\\1\\ipykernel_15400\\1074220327.py:32: RuntimeWarning: invalid value encountered in true_divide\n",
      "  a = g / r\n"
     ]
    },
    {
     "data": {
      "image/png": "[encoded data removed]",
      "text/plain": [
       "<Figure size 432x288 with 2 Axes>"
      ]
     },
     "metadata": {
      "needs_background": "light"
     },
     "output_type": "display_data"
    }
   ],
   "source": [
    "GRRI = veg_func(r, g, b, name='GRRI', nan_val=0)\n",
    "\n",
    "ax1=plt.subplot(1,2,1)\n",
    "ax1.imshow(GRRI, cmap='gray')\n",
    "ax2=plt.subplot(1,2,2)\n",
    "data = np.ravel(GRRI)\n",
    "data = data[np.where(data>0)]\n",
    "_ = ax2.hist(data, bins=25, orientation=\"horizontal\")"
   ]
  },
  {
   "cell_type": "code",
   "execution_count": 31,
   "id": "d420f47d",
   "metadata": {},
   "outputs": [
    {
     "data": {
      "image/png": "[encoded data removed]",
      "text/plain": [
       "<Figure size 432x288 with 2 Axes>"
      ]
     },
     "metadata": {
      "needs_background": "light"
     },
     "output_type": "display_data"
    }
   ],
   "source": [
    "ExG = veg_func(r, g, b, name='ExG', nan_val=0)\n",
    "\n",
    "ax1=plt.subplot(1,2,1)\n",
    "ax1.imshow(ExG, cmap='gray')\n",
    "ax2=plt.subplot(1,2,2)\n",
    "data = np.ravel(ExG)\n",
    "data = data[np.where(data>0)]\n",
    "_ = ax2.hist(data, bins=25, orientation=\"horizontal\")"
   ]
  },
  {
   "cell_type": "code",
   "execution_count": 32,
   "id": "98ae203b",
   "metadata": {},
   "outputs": [
    {
     "data": {
      "image/png": "[encoded data removed]",
      "text/plain": [
       "<Figure size 432x288 with 2 Axes>"
      ]
     },
     "metadata": {
      "needs_background": "light"
     },
     "output_type": "display_data"
    }
   ],
   "source": [
    "ExR = veg_func(r, g, b, name='ExR', nan_val=0)\n",
    "ax1=plt.subplot(1,2,1)\n",
    "ax1.imshow(ExR, cmap='gray')\n",
    "ax2=plt.subplot(1,2,2)\n",
    "data = np.ravel(ExR)\n",
    "data = data[np.where(data>0)]\n",
    "_ = ax2.hist(data, bins=25, orientation=\"horizontal\")"
   ]
  }
 ],
 "metadata": {
  "kernelspec": {
   "display_name": "Python 3 (ipykernel)",
   "language": "python",
   "name": "python3"
  },
  "language_info": {
   "codemirror_mode": {
    "name": "ipython",
    "version": 3
   },
   "file_extension": ".py",
   "mimetype": "text/x-python",
   "name": "python",
   "nbconvert_exporter": "python",
   "pygments_lexer": "ipython3",
   "version": "3.10.4"
  }
 },
 "nbformat": 4,
 "nbformat_minor": 5
}
